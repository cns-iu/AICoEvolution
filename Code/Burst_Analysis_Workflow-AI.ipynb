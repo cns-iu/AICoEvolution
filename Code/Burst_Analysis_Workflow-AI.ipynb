{
 "cells": [
  {
   "cell_type": "markdown",
   "metadata": {
    "colab_type": "text",
    "id": "x_BAb9QMsRmZ"
   },
   "source": [
    "## Burst Analysis Workflow - AI\n",
    "- Input:\n",
    "    * WoS_[area].csv Wos_id|Keywords|Year...\n",
    "    * NSF_[area].csv ID|Year|Abstracts|Title...\n"
   ]
  },
  {
   "cell_type": "code",
   "execution_count": null,
   "metadata": {
    "colab": {},
    "colab_type": "code",
    "id": "GREOrxPMsRmb"
   },
   "outputs": [],
   "source": [
    "%matplotlib inline\n",
    "import sys\n",
    "from collections import defaultdict, Counter\n",
    "import numpy as np\n",
    "import pandas as pd\n",
    "import pylab as plt\n",
    "import math\n",
    "from os import listdir\n",
    "import random\n",
    "import time\n",
    "import matplotlib.cm as cm\n",
    "from numpy.random import choice\n",
    "import itertools\n",
    "import operator\n",
    "import itertools\n",
    "from datetime import datetime as dt\n",
    "import matplotlib.mlab as mlab\n",
    "import re\n",
    "from matplotlib_venn import venn3, venn3_circles, venn2, venn2_circles\n",
    "from matplotlib.ticker import MaxNLocator"
   ]
  },
  {
   "cell_type": "code",
   "execution_count": null,
   "metadata": {
    "colab": {},
    "colab_type": "code",
    "id": "Pyb2JNw4FbTz"
   },
   "outputs": [],
   "source": [
    "area='ai'"
   ]
  },
  {
   "cell_type": "markdown",
   "metadata": {
    "colab_type": "text",
    "id": "rnnjjFImsRme"
   },
   "source": [
    "### Step 1 Normalize keywords in OpenRefine (see documentation) (https://openrefine.org/)\n",
    "### Step 2 Run Burst Analysis in Sci2 (https://sci2.cns.iu.edu/user/index.php)\n",
    "- input: \n",
    "    * [area]\\_wos_keywords.csv\n",
    "    * [area]\\_nsf_keywords.csv\n",
    "- get output:\n",
    "    * [area]\\_wos_input.csv\n",
    "    * [area]\\_nsf_input.csv"
   ]
  },
  {
   "cell_type": "markdown",
   "metadata": {
    "colab_type": "text",
    "id": "mfBZR4PpsRmf"
   },
   "source": [
    "### Step 3 Get Burst from NSF and WOS"
   ]
  },
  {
   "cell_type": "markdown",
   "metadata": {
    "colab_type": "text",
    "id": "bxLrcA-osRmf"
   },
   "source": [
    "##### 1) Load data generated from Sci2"
   ]
  },
  {
   "cell_type": "code",
   "execution_count": null,
   "metadata": {
    "colab": {},
    "colab_type": "code",
    "id": "tqr-KVpIsRmi"
   },
   "outputs": [],
   "source": [
    "wos_burst_path='data/sci2-ai-wos-output.csv'\n",
    "nsf_burst_path='data/sci2-ai-nsf-output.csv'\n",
    "WOSkw = pd.read_csv(wos_burst_path)\n",
    "NSFkw = pd.read_csv(nsf_burst_path)\n",
    "NSFkw['Word'] = NSFkw['Word'].str.replace('-',' ')  # remove underscores\n",
    "WOSkw['Word'] = WOSkw['Word'].str.replace('-',' ')  # remove underscores\n",
    "WOSkw['Word'] = WOSkw['Word'].str.lower() "
   ]
  },
  {
   "cell_type": "code",
   "execution_count": null,
   "metadata": {
    "colab": {},
    "colab_type": "code",
    "id": "rDINHhPAsRmk"
   },
   "outputs": [],
   "source": [
    "### Merge two sets\n",
    "WOSkw['Word'] = WOSkw['Word'].str.title() \n",
    "WOSkw['cat'] = 'wos'\n",
    "NSFkw['Word'] = NSFkw['Word'].str.title() \n",
    "NSFkw['cat'] = 'nsf'\n",
    "nsfwosai = pd.concat([WOSkw, NSFkw], ignore_index=True)"
   ]
  },
  {
   "cell_type": "code",
   "execution_count": null,
   "metadata": {
    "colab": {},
    "colab_type": "code",
    "id": "nUV-buHKsRmm",
    "outputId": "0c2f36f5-05f5-43f8-edb5-e718fb361128"
   },
   "outputs": [
    {
     "name": "stdout",
     "output_type": "stream",
     "text": [
      "Total WOS AI bursts: 89\n",
      "Total NSF AI bursts: 161\n"
     ]
    }
   ],
   "source": [
    "print('Total WOS AI bursts:', len(WOSkw))\n",
    "print('Total NSF AI bursts:', len(NSFkw))"
   ]
  },
  {
   "cell_type": "markdown",
   "metadata": {
    "colab_type": "text",
    "id": "1gwID7wssRmo"
   },
   "source": [
    "##### 2) Sort busrst"
   ]
  },
  {
   "cell_type": "code",
   "execution_count": null,
   "metadata": {
    "colab": {},
    "colab_type": "code",
    "id": "ucdQS8s8sRmp",
    "outputId": "5d627a24-fc0c-452c-d3e9-6d6b61837481"
   },
   "outputs": [
    {
     "name": "stdout",
     "output_type": "stream",
     "text": [
      "nsf-max 13.04195439 Machine Learning\n",
      "wos-max 39.29231663 Learning (Artificial Intelligence)\n",
      "nsf-min 3.0454774710000003 Pc\n",
      "wos-min 3.0513137410000004 Genetic Algorithm (Ga)\n"
     ]
    }
   ],
   "source": [
    "#Top Bursts\n",
    "print('nsf-max',max(NSFkw.Weight),NSFkw.loc[NSFkw.Weight==max(NSFkw.Weight),'Word'].values[0])\n",
    "print('wos-max',max(WOSkw.Weight),WOSkw.loc[WOSkw.Weight==max(WOSkw.Weight),'Word'].values[0])\n",
    "print('nsf-min',min(NSFkw.Weight),NSFkw.loc[NSFkw.Weight==min(NSFkw.Weight),'Word'].values[0])\n",
    "print('wos-min',min(WOSkw.Weight),WOSkw.loc[WOSkw.Weight==min(WOSkw.Weight),'Word'].values[0])"
   ]
  },
  {
   "cell_type": "markdown",
   "metadata": {
    "colab_type": "text",
    "id": "VJSR1kL7sRmr"
   },
   "source": [
    "##### 3) Find Double Bursts "
   ]
  },
  {
   "cell_type": "code",
   "execution_count": null,
   "metadata": {
    "colab": {},
    "colab_type": "code",
    "id": "5RFQZVyBsRms",
    "outputId": "76d0cfeb-cf23-49c1-ec1c-88f2789221a7"
   },
   "outputs": [
    {
     "data": {
      "text/html": [
       "<div>\n",
       "<style scoped>\n",
       "    .dataframe tbody tr th:only-of-type {\n",
       "        vertical-align: middle;\n",
       "    }\n",
       "\n",
       "    .dataframe tbody tr th {\n",
       "        vertical-align: top;\n",
       "    }\n",
       "\n",
       "    .dataframe thead th {\n",
       "        text-align: right;\n",
       "    }\n",
       "</style>\n",
       "<table border=\"1\" class=\"dataframe\">\n",
       "  <thead>\n",
       "    <tr style=\"text-align: right;\">\n",
       "      <th></th>\n",
       "      <th>Word</th>\n",
       "      <th>Level</th>\n",
       "      <th>Weight</th>\n",
       "      <th>Length</th>\n",
       "      <th>Start</th>\n",
       "      <th>End</th>\n",
       "      <th>cat</th>\n",
       "    </tr>\n",
       "  </thead>\n",
       "  <tbody>\n",
       "  </tbody>\n",
       "</table>\n",
       "</div>"
      ],
      "text/plain": [
       "Empty DataFrame\n",
       "Columns: [Word, Level, Weight, Length, Start, End, cat]\n",
       "Index: []"
      ]
     },
     "execution_count": 4,
     "metadata": {
      "tags": []
     },
     "output_type": "execute_result"
    }
   ],
   "source": [
    "# WOS Double Burst\n",
    "# Select all duplicate terms based on Word column\n",
    "WOSkw[WOSkw.duplicated(['Word'], keep=False)]"
   ]
  },
  {
   "cell_type": "code",
   "execution_count": null,
   "metadata": {
    "colab": {},
    "colab_type": "code",
    "id": "XGSJ38CZsRmt",
    "outputId": "2e7425a7-6945-438f-e352-a5743d737218"
   },
   "outputs": [
    {
     "data": {
      "text/html": [
       "<div>\n",
       "<style scoped>\n",
       "    .dataframe tbody tr th:only-of-type {\n",
       "        vertical-align: middle;\n",
       "    }\n",
       "\n",
       "    .dataframe tbody tr th {\n",
       "        vertical-align: top;\n",
       "    }\n",
       "\n",
       "    .dataframe thead th {\n",
       "        text-align: right;\n",
       "    }\n",
       "</style>\n",
       "<table border=\"1\" class=\"dataframe\">\n",
       "  <thead>\n",
       "    <tr style=\"text-align: right;\">\n",
       "      <th></th>\n",
       "      <th>Word</th>\n",
       "      <th>Level</th>\n",
       "      <th>Weight</th>\n",
       "      <th>Length</th>\n",
       "      <th>Start</th>\n",
       "      <th>End</th>\n",
       "      <th>cat</th>\n",
       "    </tr>\n",
       "  </thead>\n",
       "  <tbody>\n",
       "  </tbody>\n",
       "</table>\n",
       "</div>"
      ],
      "text/plain": [
       "Empty DataFrame\n",
       "Columns: [Word, Level, Weight, Length, Start, End, cat]\n",
       "Index: []"
      ]
     },
     "execution_count": 104,
     "metadata": {
      "tags": []
     },
     "output_type": "execute_result"
    }
   ],
   "source": [
    "#NSF Double Burst\n",
    "NSFkw[NSFkw.duplicated(['Word'], keep=False)]"
   ]
  },
  {
   "cell_type": "code",
   "execution_count": null,
   "metadata": {
    "colab": {},
    "colab_type": "code",
    "id": "cQ39PkXgsRmv",
    "outputId": "79277ca4-e406-4faa-ae5a-d98ab390990f"
   },
   "outputs": [
    {
     "data": {
      "text/html": [
       "<div>\n",
       "<style scoped>\n",
       "    .dataframe tbody tr th:only-of-type {\n",
       "        vertical-align: middle;\n",
       "    }\n",
       "\n",
       "    .dataframe tbody tr th {\n",
       "        vertical-align: top;\n",
       "    }\n",
       "\n",
       "    .dataframe thead th {\n",
       "        text-align: right;\n",
       "    }\n",
       "</style>\n",
       "<table border=\"1\" class=\"dataframe\">\n",
       "  <thead>\n",
       "    <tr style=\"text-align: right;\">\n",
       "      <th></th>\n",
       "      <th>Word</th>\n",
       "      <th>Level</th>\n",
       "      <th>Weight</th>\n",
       "      <th>Length</th>\n",
       "      <th>Start</th>\n",
       "      <th>End</th>\n",
       "      <th>cat</th>\n",
       "    </tr>\n",
       "  </thead>\n",
       "  <tbody>\n",
       "    <tr>\n",
       "      <th>0</th>\n",
       "      <td>Agents</td>\n",
       "      <td>1</td>\n",
       "      <td>8.517200</td>\n",
       "      <td>2</td>\n",
       "      <td>1998</td>\n",
       "      <td>1999</td>\n",
       "      <td>wos</td>\n",
       "    </tr>\n",
       "    <tr>\n",
       "      <th>131</th>\n",
       "      <td>Agents</td>\n",
       "      <td>1</td>\n",
       "      <td>3.251759</td>\n",
       "      <td>10</td>\n",
       "      <td>1999</td>\n",
       "      <td>2008</td>\n",
       "      <td>nsf</td>\n",
       "    </tr>\n",
       "    <tr>\n",
       "      <th>68</th>\n",
       "      <td>Big Data</td>\n",
       "      <td>1</td>\n",
       "      <td>16.168361</td>\n",
       "      <td>3</td>\n",
       "      <td>2015</td>\n",
       "      <td>2017</td>\n",
       "      <td>wos</td>\n",
       "    </tr>\n",
       "    <tr>\n",
       "      <th>232</th>\n",
       "      <td>Big Data</td>\n",
       "      <td>1</td>\n",
       "      <td>8.972520</td>\n",
       "      <td>5</td>\n",
       "      <td>2013</td>\n",
       "      <td>2017</td>\n",
       "      <td>nsf</td>\n",
       "    </tr>\n",
       "    <tr>\n",
       "      <th>65</th>\n",
       "      <td>Component</td>\n",
       "      <td>1</td>\n",
       "      <td>3.452716</td>\n",
       "      <td>3</td>\n",
       "      <td>2013</td>\n",
       "      <td>2015</td>\n",
       "      <td>wos</td>\n",
       "    </tr>\n",
       "    <tr>\n",
       "      <th>102</th>\n",
       "      <td>Component</td>\n",
       "      <td>1</td>\n",
       "      <td>4.182642</td>\n",
       "      <td>7</td>\n",
       "      <td>1998</td>\n",
       "      <td>2004</td>\n",
       "      <td>nsf</td>\n",
       "    </tr>\n",
       "    <tr>\n",
       "      <th>8</th>\n",
       "      <td>Control</td>\n",
       "      <td>1</td>\n",
       "      <td>5.714375</td>\n",
       "      <td>5</td>\n",
       "      <td>1998</td>\n",
       "      <td>2002</td>\n",
       "      <td>wos</td>\n",
       "    </tr>\n",
       "    <tr>\n",
       "      <th>99</th>\n",
       "      <td>Control</td>\n",
       "      <td>1</td>\n",
       "      <td>3.436222</td>\n",
       "      <td>1</td>\n",
       "      <td>2003</td>\n",
       "      <td>2003</td>\n",
       "      <td>nsf</td>\n",
       "    </tr>\n",
       "    <tr>\n",
       "      <th>72</th>\n",
       "      <td>Deep Learning</td>\n",
       "      <td>1</td>\n",
       "      <td>18.487784</td>\n",
       "      <td>2</td>\n",
       "      <td>2016</td>\n",
       "      <td>2017</td>\n",
       "      <td>wos</td>\n",
       "    </tr>\n",
       "    <tr>\n",
       "      <th>215</th>\n",
       "      <td>Deep Learning</td>\n",
       "      <td>1</td>\n",
       "      <td>7.049418</td>\n",
       "      <td>4</td>\n",
       "      <td>2014</td>\n",
       "      <td>2017</td>\n",
       "      <td>nsf</td>\n",
       "    </tr>\n",
       "    <tr>\n",
       "      <th>25</th>\n",
       "      <td>Expert Systems</td>\n",
       "      <td>1</td>\n",
       "      <td>17.988222</td>\n",
       "      <td>9</td>\n",
       "      <td>1998</td>\n",
       "      <td>2006</td>\n",
       "      <td>wos</td>\n",
       "    </tr>\n",
       "    <tr>\n",
       "      <th>95</th>\n",
       "      <td>Expert Systems</td>\n",
       "      <td>1</td>\n",
       "      <td>3.371153</td>\n",
       "      <td>6</td>\n",
       "      <td>1998</td>\n",
       "      <td>2003</td>\n",
       "      <td>nsf</td>\n",
       "    </tr>\n",
       "    <tr>\n",
       "      <th>79</th>\n",
       "      <td>Machine Learning</td>\n",
       "      <td>1</td>\n",
       "      <td>26.411891</td>\n",
       "      <td>1</td>\n",
       "      <td>2017</td>\n",
       "      <td>2017</td>\n",
       "      <td>wos</td>\n",
       "    </tr>\n",
       "    <tr>\n",
       "      <th>191</th>\n",
       "      <td>Machine Learning</td>\n",
       "      <td>1</td>\n",
       "      <td>13.041954</td>\n",
       "      <td>3</td>\n",
       "      <td>2015</td>\n",
       "      <td>2017</td>\n",
       "      <td>nsf</td>\n",
       "    </tr>\n",
       "    <tr>\n",
       "      <th>46</th>\n",
       "      <td>Psychology</td>\n",
       "      <td>1</td>\n",
       "      <td>3.381516</td>\n",
       "      <td>7</td>\n",
       "      <td>2003</td>\n",
       "      <td>2009</td>\n",
       "      <td>wos</td>\n",
       "    </tr>\n",
       "    <tr>\n",
       "      <th>157</th>\n",
       "      <td>Psychology</td>\n",
       "      <td>1</td>\n",
       "      <td>3.606917</td>\n",
       "      <td>2</td>\n",
       "      <td>2012</td>\n",
       "      <td>2013</td>\n",
       "      <td>nsf</td>\n",
       "    </tr>\n",
       "  </tbody>\n",
       "</table>\n",
       "</div>"
      ],
      "text/plain": [
       "                 Word  Level     Weight  Length  Start   End  cat\n",
       "0              Agents      1   8.517200       2   1998  1999  wos\n",
       "131            Agents      1   3.251759      10   1999  2008  nsf\n",
       "68           Big Data      1  16.168361       3   2015  2017  wos\n",
       "232          Big Data      1   8.972520       5   2013  2017  nsf\n",
       "65          Component      1   3.452716       3   2013  2015  wos\n",
       "102         Component      1   4.182642       7   1998  2004  nsf\n",
       "8             Control      1   5.714375       5   1998  2002  wos\n",
       "99            Control      1   3.436222       1   2003  2003  nsf\n",
       "72      Deep Learning      1  18.487784       2   2016  2017  wos\n",
       "215     Deep Learning      1   7.049418       4   2014  2017  nsf\n",
       "25     Expert Systems      1  17.988222       9   1998  2006  wos\n",
       "95     Expert Systems      1   3.371153       6   1998  2003  nsf\n",
       "79   Machine Learning      1  26.411891       1   2017  2017  wos\n",
       "191  Machine Learning      1  13.041954       3   2015  2017  nsf\n",
       "46         Psychology      1   3.381516       7   2003  2009  wos\n",
       "157        Psychology      1   3.606917       2   2012  2013  nsf"
      ]
     },
     "execution_count": 5,
     "metadata": {
      "tags": []
     },
     "output_type": "execute_result"
    }
   ],
   "source": [
    "# Select all duplicate terms based on Word column\n",
    "duplicates = nsfwosai[nsfwosai.duplicated(['Word'], keep=False)]\n",
    "duplicates.sort_values(['Word'])"
   ]
  },
  {
   "cell_type": "markdown",
   "metadata": {
    "colab_type": "text",
    "id": "DVIDFDcFsRmx"
   },
   "source": [
    "##### 4) Identify Top 10 for WOS and NSF"
   ]
  },
  {
   "cell_type": "code",
   "execution_count": null,
   "metadata": {
    "colab": {},
    "colab_type": "code",
    "id": "DziAaj9ssRmy"
   },
   "outputs": [],
   "source": [
    "wos_top={}\n",
    "\n",
    "# sum weight and pick top15\n",
    "for i in WOSkw.index:\n",
    "    word=WOSkw['Word'][i].lower()\n",
    "    weight=WOSkw['Weight'][i]\n",
    "    start=WOSkw['Start'][i]\n",
    "    end=WOSkw['End'][i]\n",
    "    if word in wos_top:\n",
    "        wos_top[word][0]+=weight\n",
    "        if start<wos_top[word][1]:\n",
    "            wos_top[word][1]=start\n",
    "            wos_top[word][2]=end \n",
    "    else:\n",
    "        wos_top[word]=[weight,start,end]\n",
    "\n",
    "wos_df=pd.DataFrame.from_dict(wos_top,\n",
    "                       orient='index', columns=['sum_weight', 'first_start','end'])\n",
    "\n",
    "wos_topdf=wos_df.sort_values(ascending=[False],by=['sum_weight'])[0:9] # change from 10 \n",
    "\n",
    "for i in WOSkw.index:\n",
    "    if WOSkw['Word'][i].lower() not in wos_topdf.index:\n",
    "        WOSkw=WOSkw.drop([i])\n",
    "WOSkw=WOSkw.reset_index(drop=True)        \n",
    "WOSkw['Word']=[i.lower() for i in list(WOSkw['Word'])]"
   ]
  },
  {
   "cell_type": "code",
   "execution_count": null,
   "metadata": {
    "colab": {},
    "colab_type": "code",
    "id": "Ur7fBLCvsRm0"
   },
   "outputs": [],
   "source": [
    "nsf_top={}\n",
    "\n",
    "# sum weight and pick top15\n",
    "for i in NSFkw.index:\n",
    "    word=NSFkw['Word'][i].lower()\n",
    "    weight=NSFkw['Weight'][i]\n",
    "    start=NSFkw['Start'][i]\n",
    "    end=NSFkw['End'][i]\n",
    "    if word in nsf_top:\n",
    "        nsf_top[word][0]+=weight\n",
    "        if start<nsf_top[word][1]:\n",
    "            nsf_top[word][1]=start\n",
    "            nsf_top[word][2]=end        \n",
    "    else:\n",
    "        nsf_top[word]=[weight,start,end]\n",
    "\n",
    "nsf_df=pd.DataFrame.from_dict(nsf_top,\n",
    "                       orient='index', columns=['sum_weight', 'first_start','end'])\n",
    "\n",
    "nsf_topdf=nsf_df.sort_values(ascending=[False],by=['sum_weight'])[0:9]  \n",
    "\n",
    "#nsf_topdf=nsf_topdf.sort_values(ascending=[True,False],by=['first_start','sum_weight']) \n",
    "\n",
    "#NSFkw.loc[]\n",
    "\n",
    "for i in NSFkw.index:\n",
    "    if NSFkw['Word'][i].lower() not in nsf_topdf.index:\n",
    "        NSFkw=NSFkw.drop([i])\n",
    "NSFkw=NSFkw.reset_index(drop=True)     \n",
    "NSFkw['Word']=[i.lower() for i in list(NSFkw['Word'])]"
   ]
  },
  {
   "cell_type": "code",
   "execution_count": null,
   "metadata": {
    "colab": {},
    "colab_type": "code",
    "id": "VJHb_lr1sRm1"
   },
   "outputs": [],
   "source": [
    "allkw_list=pd.concat([nsf_topdf,wos_topdf])\n",
    "allkw_list=allkw_list.sort_values(ascending=[True,True,False],by=['first_start','end','sum_weight'])\n",
    "allkw_list=allkw_list.reset_index()"
   ]
  },
  {
   "cell_type": "markdown",
   "metadata": {
    "colab_type": "text",
    "id": "fJNH_yazsRm3"
   },
   "source": [
    "##### 5) Find Overlap between NSF and WOS"
   ]
  },
  {
   "cell_type": "code",
   "execution_count": null,
   "metadata": {
    "colab": {},
    "colab_type": "code",
    "id": "OQ0gHEVdsRm4"
   },
   "outputs": [],
   "source": [
    "overlap=allkw_list[list(allkw_list['index'].duplicated()==True)]\n",
    "allkw_list=allkw_list[list(allkw_list['index'].duplicated()!=True)] #remove duplicated\n",
    "allkw_list=allkw_list.reset_index()"
   ]
  },
  {
   "cell_type": "code",
   "execution_count": null,
   "metadata": {
    "colab": {},
    "colab_type": "code",
    "id": "0BcZ-y8VsRm6",
    "outputId": "581848ae-8b8d-4dfa-e9bc-549d60606f17"
   },
   "outputs": [
    {
     "name": "stdout",
     "output_type": "stream",
     "text": [
      "big data-NSF: \n",
      "1\n",
      "big data-WOS: \n",
      "1\n",
      "deep learning-NSF: \n",
      "1\n",
      "deep learning-WOS: \n",
      "1\n",
      "machine learning-NSF: \n",
      "1\n",
      "machine learning-WOS: \n",
      "1\n"
     ]
    }
   ],
   "source": [
    "overlap_list=pd.DataFrame(columns=['Word','Length','Weight','Start','End'])\n",
    "for i in range(len(overlap)):\n",
    "    print(overlap['index'].values[i]+'-NSF: ')\n",
    "    print(len(NSFkw.loc[NSFkw.Word==overlap['index'].values[i],]))\n",
    "    print(overlap['index'].values[i]+'-WOS: ')\n",
    "    print(len(WOSkw.loc[WOSkw.Word==overlap['index'].values[i],]))\n",
    "    nsf_ol=NSFkw.loc[NSFkw.Word==overlap['index'].values[i],]\n",
    "    wos_ol=WOSkw.loc[WOSkw.Word==overlap['index'].values[i],]\n",
    "    nsf_ol=nsf_ol.reset_index()\n",
    "    wos_ol=wos_ol.reset_index()\n",
    "    for k in range(len(nsf_ol)):\n",
    "        for j in range(len(wos_ol)):\n",
    "            Word=nsf_ol.loc[k,'Word']\n",
    "            Level=1\n",
    "            Weight=max(nsf_ol.loc[k,'Weight'],wos_ol.loc[j,'Weight'])\n",
    "            max_Start=max(nsf_ol.loc[k,'Start'],wos_ol.loc[j,'Start'])\n",
    "            min_End=min(nsf_ol.loc[k,'End'],wos_ol.loc[j,'End'])\n",
    "            if max_Start<=min_End: ##has overlapped year \n",
    "                overlap_list.loc[len(overlap_list),['Word','Weight','Start','End']]=[Word,Weight,max_Start,min_End]\n",
    "                overlap_list.loc[len(overlap_list)-1,['Length']]=[min_End-max_Start+1]\n",
    "        \n"
   ]
  },
  {
   "cell_type": "code",
   "execution_count": null,
   "metadata": {
    "colab": {},
    "colab_type": "code",
    "id": "g2ijm6UzsRm7",
    "outputId": "f689526c-d354-4fba-894c-c964639914d3"
   },
   "outputs": [
    {
     "data": {
      "text/html": [
       "<div>\n",
       "<style scoped>\n",
       "    .dataframe tbody tr th:only-of-type {\n",
       "        vertical-align: middle;\n",
       "    }\n",
       "\n",
       "    .dataframe tbody tr th {\n",
       "        vertical-align: top;\n",
       "    }\n",
       "\n",
       "    .dataframe thead th {\n",
       "        text-align: right;\n",
       "    }\n",
       "</style>\n",
       "<table border=\"1\" class=\"dataframe\">\n",
       "  <thead>\n",
       "    <tr style=\"text-align: right;\">\n",
       "      <th></th>\n",
       "      <th>Word</th>\n",
       "      <th>Length</th>\n",
       "      <th>Weight</th>\n",
       "      <th>Start</th>\n",
       "      <th>End</th>\n",
       "    </tr>\n",
       "  </thead>\n",
       "  <tbody>\n",
       "    <tr>\n",
       "      <th>0</th>\n",
       "      <td>big data</td>\n",
       "      <td>3</td>\n",
       "      <td>16.1684</td>\n",
       "      <td>2015</td>\n",
       "      <td>2017</td>\n",
       "    </tr>\n",
       "    <tr>\n",
       "      <th>1</th>\n",
       "      <td>deep learning</td>\n",
       "      <td>2</td>\n",
       "      <td>18.4878</td>\n",
       "      <td>2016</td>\n",
       "      <td>2017</td>\n",
       "    </tr>\n",
       "    <tr>\n",
       "      <th>2</th>\n",
       "      <td>machine learning</td>\n",
       "      <td>1</td>\n",
       "      <td>26.4119</td>\n",
       "      <td>2017</td>\n",
       "      <td>2017</td>\n",
       "    </tr>\n",
       "  </tbody>\n",
       "</table>\n",
       "</div>"
      ],
      "text/plain": [
       "               Word Length   Weight Start   End\n",
       "0          big data      3  16.1684  2015  2017\n",
       "1     deep learning      2  18.4878  2016  2017\n",
       "2  machine learning      1  26.4119  2017  2017"
      ]
     },
     "execution_count": 27,
     "metadata": {
      "tags": []
     },
     "output_type": "execute_result"
    }
   ],
   "source": [
    "overlap_list"
   ]
  },
  {
   "cell_type": "code",
   "execution_count": null,
   "metadata": {
    "colab": {},
    "colab_type": "code",
    "id": "pufayCL0sRm9"
   },
   "outputs": [],
   "source": [
    "WOSkw['Word'] = WOSkw['Word'].str.title() \n",
    "NSFkw['Word'] = NSFkw['Word'].str.title() \n",
    "overlap_list['Word'] = overlap_list['Word'].str.title()\n",
    "allkw_list['index'] = allkw_list['index'].str.title()"
   ]
  },
  {
   "cell_type": "code",
   "execution_count": null,
   "metadata": {
    "colab": {},
    "colab_type": "code",
    "id": "K8sKRSxEsRnE"
   },
   "outputs": [],
   "source": [
    "allkw_list.to_csv(\"top-15-ai.csv\", index=False)"
   ]
  },
  {
   "cell_type": "markdown",
   "metadata": {
    "colab_type": "text",
    "id": "pUseBgeAsRnI"
   },
   "source": [
    "### Step 4 Plot Graph"
   ]
  },
  {
   "cell_type": "code",
   "execution_count": null,
   "metadata": {
    "colab": {},
    "colab_type": "code",
    "id": "DtkUENacsRnI"
   },
   "outputs": [],
   "source": [
    "wos = pd.read_csv('data/wos-three-domains-total-1998-2017.csv', encoding='latin1', sep=\",\")\n",
    "nsf = pd.read_csv('data/nsf-three-domains-total-1998-2017.csv', encoding='latin1', sep=\",\")"
   ]
  },
  {
   "cell_type": "markdown",
   "metadata": {
    "colab_type": "text",
    "id": "2yJ91kJqsRnK"
   },
   "source": [
    "##### Final Figures"
   ]
  },
  {
   "cell_type": "code",
   "execution_count": null,
   "metadata": {
    "colab": {},
    "colab_type": "code",
    "id": "ghTSizxTsRnK"
   },
   "outputs": [],
   "source": [
    "Blue NSF - #0D47A1 \n",
    "\n",
    "Orange Pub -  #EF6C00 \n",
    "\n",
    "Grey - bdbdbd \n",
    "\n",
    "Height - \n",
    "\n",
    "Width – 3.5 inch \n",
    "\n",
    "Font  Size >=8in \n",
    "\n",
    "Font - Arial \n",
    "\n",
    "No legend\n",
    "\n",
    "vertical line - #e0e0e0"
   ]
  },
  {
   "cell_type": "code",
   "execution_count": null,
   "metadata": {
    "colab": {},
    "colab_type": "code",
    "id": "p63OV0KfsRnR",
    "outputId": "a913c703-2983-4bf9-b7d0-948b6c74097c"
   },
   "outputs": [
    {
     "data": {
      "text/plain": [
       "<Figure size 288x465.984 with 0 Axes>"
      ]
     },
     "metadata": {
      "tags": []
     },
     "output_type": "display_data"
    }
   ],
   "source": [
    "w, h = plt.figaspect(1.618)\n",
    "fig = plt.figure(figsize=(w, h),facecolor='white')"
   ]
  },
  {
   "cell_type": "code",
   "execution_count": null,
   "metadata": {
    "colab": {},
    "colab_type": "code",
    "id": "6eYcV6Y0sRnS",
    "outputId": "b40ebcb1-3fd6-4343-a53d-ca039a8b8d05"
   },
   "outputs": [
    {
     "data": {
      "text/plain": [
       "{'divide': 'warn', 'over': 'warn', 'under': 'ignore', 'invalid': 'warn'}"
      ]
     },
     "execution_count": 13,
     "metadata": {
      "tags": []
     },
     "output_type": "execute_result"
    }
   ],
   "source": [
    "plt.rcParams['axes.xmargin'] = 0 # remove whote margins\n",
    "plt.rcParams['svg.fonttype'] = 'none' # for svg formatting\n",
    "plt.rc('xtick', labelsize=13) \n",
    "plt.rc('ytick', labelsize=13) \n",
    "plt.rcParams['font.sans-serif'] = \"Arial\"\n",
    "\n",
    "plt.rcParams['font.family'] = \"sans-serif\"\n",
    "\n",
    "np.seterr(divide='ignore', invalid='ignore') # to remove warning messages"
   ]
  },
  {
   "cell_type": "code",
   "execution_count": null,
   "metadata": {
    "colab": {},
    "colab_type": "code",
    "id": "shmQq80EsRnX",
    "outputId": "5910627a-453f-4d07-8f0d-958c4cde2f41"
   },
   "outputs": [
    {
     "data": {
      "image/png": "[encoded data removed]",
      "text/plain": [
       "<Figure size 465.984x288 with 2 Axes>"
      ]
     },
     "metadata": {
      "tags": []
     },
     "output_type": "display_data"
    }
   ],
   "source": [
    "plt.rcParams['svg.fonttype'] = 'none' # for svg formatting\n",
    "np.seterr(divide='ignore', invalid='ignore') # to remove warning messages\n",
    "plt.rc('xtick', labelsize=15) # change size of labels\n",
    "plt.rc('ytick', labelsize=15) # change size of labels\n",
    "plt.rcParams['font.sans-serif'] = \"Arial\"\n",
    "plt.rcParams['font.family'] = \"sans-serif\"\n",
    "w, h = plt.figaspect(1.618)\n",
    "fig = plt.figure(figsize=(h, w),facecolor='white')\n",
    "ax1 = fig.add_subplot(111)\n",
    "\n",
    "x = [1998, 1999, 2000,2001,2002,2003, 2004,2005, 2006, 2007, 2008, 2009,2010, 2011, 2012, 2013, 2014, 2015, 2016, 2017,2018]\n",
    "\n",
    "ax1.set_ylim(0, max(max(wos.AI.values),max(nsf.AI.values))) # adjust ylim\n",
    "ax1.set_xlim((1998, 2018))\n",
    "\n",
    "ax1.xaxis.set_major_locator(MaxNLocator(integer=True))\n",
    "ax1.axes.set_xticklabels(x) \n",
    "ax1.set_xticklabels(x, rotation=45)\n",
    "\n",
    "max_weight = 62.16\n",
    "\n",
    "ax1.plot(wos.year.values,wos.AI.values, linewidth = 2, color=\"#EF6C00\")  # orange wos\n",
    "ax1.plot(wos.year.values,nsf.AI.values,linewidth = 2,color = \"#0D47A1\")  # blue nsf\n",
    "\n",
    "ax1.grid(b=False) # turn off grid #2\n",
    "plt.axvline(x=2000, color='#9e9e9e',linewidth = 0.5)\n",
    "plt.axvline(x=2002, color='#9e9e9e',linewidth = 0.5)\n",
    "plt.axvline(x=2004, color='#9e9e9e',linewidth = 0.5)\n",
    "plt.axvline(x=2006, color='#9e9e9e',linewidth = 0.5)\n",
    "plt.axvline(x=2008, color='#9e9e9e',linewidth = 0.5)\n",
    "plt.axvline(x=2010, color='#9e9e9e',linewidth = 0.5)\n",
    "plt.axvline(x=2012, color='#9e9e9e',linewidth = 0.5)\n",
    "plt.axvline(x=2014, color='#9e9e9e',linewidth = 0.5)\n",
    "plt.axvline(x=2016, color='#9e9e9e',linewidth = 0.5)\n",
    "my_yticks=allkw_list['index']  \n",
    "\n",
    "ax2 = ax1.twinx()  # set up the 2nd axis\n",
    "\n",
    "for x in range(0,len(WOSkw)):\n",
    "    color=\"#EF6C00\" #orange -- wos\n",
    "    i=allkw_list.index[allkw_list['index']==WOSkw['Word'][x]].values[0]\n",
    "\n",
    "    ax2.barh([i], left=WOSkw.iloc[x].Start, width=WOSkw.iloc[x].End-WOSkw.iloc[x].Start+1, color=color,height=WOSkw.iloc[x].Weight/max_weight*0.8+0.03,alpha=1)\n",
    " \n",
    "  \n",
    "for x in range(0,len(NSFkw)):\n",
    "    color=\"#0D47A1\" #blue -- nsf\n",
    "    i=allkw_list.index[allkw_list['index']==NSFkw['Word'][x]].values[0]\n",
    "    \n",
    "    ax2.barh([i], left=NSFkw.iloc[x].Start, width=NSFkw.iloc[x].Length,  color=color,height=NSFkw[x:(x+1)].Weight/max_weight*0.8+0.03,alpha=1)\n",
    "\n",
    "    \n",
    "for x in range(0,len(overlap_list)):\n",
    "    color=\"#bdbdbd\" #grey -- nsf  grey\n",
    "    i=allkw_list.index[allkw_list['index']==overlap_list['Word'][x]].values[0]\n",
    "    \n",
    "    ax2.barh([i], width=overlap_list[x:(x+1)].Length, left=overlap_list[x:(x+1)].Start, color=color,height=overlap_list[x:(x+1)].Weight/max_weight*0.8+0.03,alpha=1)\n",
    "\n",
    "\n",
    "for x in range(0,6):\n",
    "        ax2.text(float(allkw_list[x:(x+1)].end+1.3), float(x-0.2) , allkw_list['index'][x], fontname='Arial',size=13)# addd values to bars\n",
    "\n",
    "\n",
    "for x in range(6,15):\n",
    "    if len(allkw_list['index'][x]) < 12: \n",
    "        ax2.text(float(allkw_list[x:(x+1)].first_start-3.9), float(x-0.1) , allkw_list['index'][x], fontname='Arial',size=13)# addd values to bars\n",
    "    if len(allkw_list['index'][x]) >= 12 and len(allkw_list['index'][x]) < 21:\n",
    "        ax2.text(float(allkw_list[x:(x+1)].first_start-6.3), float(x-0.1) , allkw_list['index'][x], fontname='Arial',size=13)#\n",
    "    if len(allkw_list['index'][x]) >= 21:\n",
    "        ax2.text(float(allkw_list[x:(x+1)].first_start-10.2), float(x-0.1) , allkw_list['index'][x], fontname='Arial',size=13)#\n",
    "\n",
    "\n",
    "ax2 = plt.gca()  \n",
    "\n",
    "ax2.xaxis.set_major_locator(MaxNLocator(integer=True))\n",
    "ax1.xaxis.set_major_locator(MaxNLocator(integer=True))\n",
    "ax1.set_xticks([1998, 1999, 2000,2001,2002,2003, 2004,2005, 2006, 2007, 2008, 2009,2010, 2011, 2012, 2013, 2014, 2015, 2016, 2017,2018])\n",
    "\n",
    "ax2.tick_params(axis=u'both', which=u'both',length=0)\n",
    "ax2.set_yticklabels([])\n",
    "\n",
    "plt.xticks(rotation=45)\n",
    "ax1.tick_params(axis=u'x', which=u'x',length=4)\n",
    "plt.setp(ax1.get_xticklabels()[1::2], visible=False)\n",
    "\n",
    "fig.tight_layout()\n",
    "\n",
    "plt.savefig('Fig-burst-ai.svg')\n",
    "plt.savefig('Fig-burst-ai.png')\n",
    "plt.show()"
   ]
  }
 ],
 "metadata": {
  "colab": {
   "collapsed_sections": [],
   "name": "Burst_Analysis_Workflow-AI-Trend-Overlay.ipynb",
   "provenance": []
  },
  "kernelspec": {
   "display_name": "Python 3",
   "language": "python",
   "name": "python3"
  },
  "language_info": {
   "codemirror_mode": {
    "name": "ipython",
    "version": 3
   },
   "file_extension": ".py",
   "mimetype": "text/x-python",
   "name": "python",
   "nbconvert_exporter": "python",
   "pygments_lexer": "ipython3",
   "version": "3.7.1"
  }
 },
 "nbformat": 4,
 "nbformat_minor": 4
}
