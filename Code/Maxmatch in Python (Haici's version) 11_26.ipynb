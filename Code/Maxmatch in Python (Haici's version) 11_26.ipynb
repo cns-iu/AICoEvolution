{
 "cells": [
  {
   "cell_type": "code",
   "execution_count": 1,
   "metadata": {},
   "outputs": [],
   "source": [
    "import csv\n",
    "from nltk.stem import PorterStemmer\n",
    "from nltk.tokenize import sent_tokenize, word_tokenize\n",
    "ps = PorterStemmer()\n",
    "\n",
    "keyword=set()\n",
    "with open('/Users/haici/Desktop/1121 Burst/WOS.csv','r') as f:\n",
    "    csvf=csv.reader(f,delimiter=',')\n",
    "    next(csvf, None)  # skip the headers\n",
    "    for line in csvf:\n",
    "        words=line[0].split('|')\n",
    "        for word in words:\n",
    "            word=word.lower()\n",
    "            #keyword.add(ps.stem(word))\n",
    "            keyword.add(word)\n",
    "            \n",
    "def myFunc(e):\n",
    "    return len(e.split())\n",
    "\n",
    "keyword.remove('is')\n",
    "keyword.remove('i')\n",
    "keyword.remove('')\n",
    "keyword.remove('s')\n",
    "keyword.remove('ti')\n",
    "keyword.remove('ea')\n",
    "keyword.remove('al')\n",
    "\n",
    "\n",
    "keyword_list=list(keyword)\n",
    "\n",
    "keyword_list.sort(key=myFunc,reverse=True) #sort by number of words in a phrase\n",
    "\n"
   ]
  },
  {
   "cell_type": "code",
   "execution_count": 4,
   "metadata": {},
   "outputs": [
    {
     "name": "stdout",
     "output_type": "stream",
     "text": [
      "1717324,online|algorithm|artificial general intelligence|tree search|intelligence|method|self-driving cars|strategy|model|project|space|artificial intelligence|searching|machines|applications|control|general artificial intelligence|research|real-time strategy|music|aircraft|genetic programming|selection|search|programming|test|problem-solving|problems|algorithms|production|human|methods|search algorithms,9/1/17\n",
      "\n",
      "completed 1of 1074\n",
      "705898,sensor|challenges|transportation|statistical|discourse|yield|combinations|goals|learning|power|intelligence|growth|research team|networks|domains|reasoning|change|probabilistic reasoning|making|deliberation|human decision|project|interest|replacement|research challenges|understanding|cognitive sciences|artificial intelligence|hybrid|activity recognition|data|applications|research|recognition|aging|building|population|representation|commonsense|analysis|models|health|infrastructure|art|decision making|developing|source|proposal|modeling|techniques|sensor data|framework|artificial intelligence community|assumptions|human|planning|time|events,10/1/07\n",
      "\n",
      "completed 2of 1074\n"
     ]
    }
   ],
   "source": [
    "with open('/Users/haici/Desktop/1121 Burst/NSF.csv','r') as f:\n",
    "    csvf=csv.reader(f,delimiter=',')\n",
    "    next(csvf, None)  # skip the headers\n",
    "    fw= open('/Users/haici/Desktop/1121 Burst/NSF_match_ti_abs-test.csv','w')\n",
    "    loading=0\n",
    "    for line in csvf:\n",
    "        matchword=set()\n",
    "        #line_word=line[1] # Title\n",
    "        line_word=line[1]+line[2] # Title+Abstrct\n",
    "        line_word=line_word.split()\n",
    "        mat_key=''\n",
    "        for i in range(0,len(line_word)):\n",
    "            for word in keyword_list:\n",
    "                num_word=len(word.split())\n",
    "                if word == ' '.join(line_word[i:i+num_word]):\n",
    "                    matchword.add(word)\n",
    "                    break\n",
    "        for word in matchword:\n",
    "            mat_key+=word+'|'\n",
    "        #print(mat_key[0:len(mat_key)-1])\n",
    "        print(line[0]+','+mat_key[0:len(mat_key)-1]+','+line[3]+'\\n')\n",
    "        loading+=1\n",
    "        print('completed '+str(loading)+'of 1074')\n",
    "        fw.write(line[0]+','+mat_key[0:len(mat_key)-1]+','+line[3]+'\\n')\n",
    "        if loading==2:\n",
    "            break"
   ]
  },
  {
   "cell_type": "code",
   "execution_count": null,
   "metadata": {},
   "outputs": [],
   "source": []
  }
 ],
 "metadata": {
  "kernelspec": {
   "display_name": "Python 3",
   "language": "python",
   "name": "python3"
  },
  "language_info": {
   "codemirror_mode": {
    "name": "ipython",
    "version": 3
   },
   "file_extension": ".py",
   "mimetype": "text/x-python",
   "name": "python",
   "nbconvert_exporter": "python",
   "pygments_lexer": "ipython3",
   "version": "3.7.1"
  }
 },
 "nbformat": 4,
 "nbformat_minor": 4
}
