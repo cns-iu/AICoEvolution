{
 "cells": [
  {
   "cell_type": "markdown",
   "metadata": {},
   "source": [
    "## Figure 1B Stacked Bar Chart"
   ]
  },
  {
   "cell_type": "code",
   "execution_count": 1,
   "metadata": {},
   "outputs": [],
   "source": [
    "%matplotlib inline\n",
    "import matplotlib\n",
    "import matplotlib.pyplot as plt\n",
    "import numpy as np\n",
    "import pandas as pd\n",
    "from matplotlib.ticker import MaxNLocator\n",
    "from matplotlib.ticker import FuncFormatter"
   ]
  },
  {
   "cell_type": "markdown",
   "metadata": {},
   "source": [
    "### Import Data"
   ]
  },
  {
   "cell_type": "code",
   "execution_count": 2,
   "metadata": {},
   "outputs": [],
   "source": [
    "data_import = pd.read_csv('Data/nsf-budget-aaas-org-1998-2018.csv', \n",
    "                          encoding='latin1', sep=\",\")"
   ]
  },
  {
   "cell_type": "code",
   "execution_count": 4,
   "metadata": {},
   "outputs": [
    {
     "data": {
      "text/html": [
       "<div>\n",
       "<style scoped>\n",
       "    .dataframe tbody tr th:only-of-type {\n",
       "        vertical-align: middle;\n",
       "    }\n",
       "\n",
       "    .dataframe tbody tr th {\n",
       "        vertical-align: top;\n",
       "    }\n",
       "\n",
       "    .dataframe thead th {\n",
       "        text-align: right;\n",
       "    }\n",
       "</style>\n",
       "<table border=\"1\" class=\"dataframe\">\n",
       "  <thead>\n",
       "    <tr style=\"text-align: right;\">\n",
       "      <th></th>\n",
       "      <th>Year</th>\n",
       "      <th>BIO</th>\n",
       "      <th>CISE</th>\n",
       "      <th>ENG</th>\n",
       "      <th>GEO</th>\n",
       "      <th>MPS</th>\n",
       "      <th>SBE</th>\n",
       "      <th>Other R&amp;RA</th>\n",
       "      <th>EHR</th>\n",
       "      <th>MREFC</th>\n",
       "      <th>All Other</th>\n",
       "      <th>NSF ARRA</th>\n",
       "    </tr>\n",
       "  </thead>\n",
       "  <tbody>\n",
       "    <tr>\n",
       "      <th>0</th>\n",
       "      <td>1998</td>\n",
       "      <td>0.530</td>\n",
       "      <td>0.401</td>\n",
       "      <td>0.512</td>\n",
       "      <td>0.653</td>\n",
       "      <td>1.025</td>\n",
       "      <td>0.189</td>\n",
       "      <td>0.526</td>\n",
       "      <td>0.944</td>\n",
       "      <td>0.117</td>\n",
       "      <td>0.219</td>\n",
       "      <td>0.0</td>\n",
       "    </tr>\n",
       "    <tr>\n",
       "      <th>1</th>\n",
       "      <td>1999</td>\n",
       "      <td>0.577</td>\n",
       "      <td>0.440</td>\n",
       "      <td>0.545</td>\n",
       "      <td>0.704</td>\n",
       "      <td>1.080</td>\n",
       "      <td>0.209</td>\n",
       "      <td>0.599</td>\n",
       "      <td>0.975</td>\n",
       "      <td>0.083</td>\n",
       "      <td>0.198</td>\n",
       "      <td>0.0</td>\n",
       "    </tr>\n",
       "    <tr>\n",
       "      <th>2</th>\n",
       "      <td>2000</td>\n",
       "      <td>0.604</td>\n",
       "      <td>0.390</td>\n",
       "      <td>0.548</td>\n",
       "      <td>0.704</td>\n",
       "      <td>1.091</td>\n",
       "      <td>0.234</td>\n",
       "      <td>0.730</td>\n",
       "      <td>0.986</td>\n",
       "      <td>0.151</td>\n",
       "      <td>0.207</td>\n",
       "      <td>0.0</td>\n",
       "    </tr>\n",
       "    <tr>\n",
       "      <th>3</th>\n",
       "      <td>2001</td>\n",
       "      <td>0.685</td>\n",
       "      <td>0.494</td>\n",
       "      <td>0.611</td>\n",
       "      <td>0.794</td>\n",
       "      <td>1.204</td>\n",
       "      <td>0.250</td>\n",
       "      <td>0.715</td>\n",
       "      <td>1.121</td>\n",
       "      <td>0.168</td>\n",
       "      <td>0.203</td>\n",
       "      <td>0.0</td>\n",
       "    </tr>\n",
       "    <tr>\n",
       "      <th>4</th>\n",
       "      <td>2002</td>\n",
       "      <td>0.707</td>\n",
       "      <td>0.541</td>\n",
       "      <td>0.653</td>\n",
       "      <td>0.846</td>\n",
       "      <td>1.277</td>\n",
       "      <td>0.255</td>\n",
       "      <td>0.738</td>\n",
       "      <td>1.202</td>\n",
       "      <td>0.160</td>\n",
       "      <td>0.313</td>\n",
       "      <td>0.0</td>\n",
       "    </tr>\n",
       "  </tbody>\n",
       "</table>\n",
       "</div>"
      ],
      "text/plain": [
       "   Year    BIO   CISE    ENG    GEO    MPS    SBE  Other R&RA    EHR  MREFC  \\\n",
       "0  1998  0.530  0.401  0.512  0.653  1.025  0.189       0.526  0.944  0.117   \n",
       "1  1999  0.577  0.440  0.545  0.704  1.080  0.209       0.599  0.975  0.083   \n",
       "2  2000  0.604  0.390  0.548  0.704  1.091  0.234       0.730  0.986  0.151   \n",
       "3  2001  0.685  0.494  0.611  0.794  1.204  0.250       0.715  1.121  0.168   \n",
       "4  2002  0.707  0.541  0.653  0.846  1.277  0.255       0.738  1.202  0.160   \n",
       "\n",
       "   All Other  NSF ARRA  \n",
       "0      0.219       0.0  \n",
       "1      0.198       0.0  \n",
       "2      0.207       0.0  \n",
       "3      0.203       0.0  \n",
       "4      0.313       0.0  "
      ]
     },
     "execution_count": 4,
     "metadata": {},
     "output_type": "execute_result"
    }
   ],
   "source": [
    "data_import.head()"
   ]
  },
  {
   "cell_type": "code",
   "execution_count": 3,
   "metadata": {},
   "outputs": [],
   "source": [
    "# The position of the bars on the x-axis\n",
    "r = list(range(1998,2019))\n",
    "# Names of group and bar width\n",
    "names = data_import.Year.values\n",
    "barWidth = 1\n"
   ]
  },
  {
   "cell_type": "code",
   "execution_count": 4,
   "metadata": {},
   "outputs": [],
   "source": [
    "bar1 = list(data_import['MPS'].values.astype(float))\n",
    "bar2 = list(data_import['GEO'].values.astype(float))\n",
    "bar3 = list(data_import['ENG'].values.astype(float))\n",
    "bar4 = list(data_import['BIO'].values.astype(float))\n",
    "bar5 = list(data_import['CISE'].values.astype(float))\n",
    "bar6 = list(data_import['SBE'].values.astype(float))\n",
    "bar7 = list(data_import['Other R&RA'].values.astype(float))\n",
    "bar8 = list(data_import['MREFC'].values.astype(float))\n",
    "bar9 = list(data_import['EHR'].values.astype(float))\n",
    "bar10 = list(data_import['All Other'].values.astype(float))\n",
    "bar11 = list(data_import['NSF ARRA'].values.astype(float))\n",
    "\n",
    "# Heights of bars1 + bars2\n",
    "bars = np.add(bar1, bar2).tolist()\n",
    "bars2 = np.add(bars, bar3).tolist()\n",
    "bars3 = np.add(bars2, bar4).tolist()\n",
    "bars4 = np.add(bars3, bar5).tolist()\n",
    "bars5 = np.add(bars4, bar6).tolist()\n",
    "bars6 = np.add(bars5, bar7).tolist()\n",
    "bars7 = np.add(bars6, bar8).tolist()\n",
    "bars8 = np.add(bars7, bar9).tolist()\n",
    "bars9 = np.add(bars8, bar10).tolist()\n",
    "bars10 = np.add(bars9, bar11).tolist()\n"
   ]
  },
  {
   "cell_type": "code",
   "execution_count": 25,
   "metadata": {},
   "outputs": [
    {
     "name": "stderr",
     "output_type": "stream",
     "text": [
      "No handles with labels found to put in legend.\n"
     ]
    },
    {
     "data": {
      "image/png": "[encoded data removed]",
      "text/plain": [
       "<Figure size 864x432 with 1 Axes>"
      ]
     },
     "metadata": {},
     "output_type": "display_data"
    }
   ],
   "source": [
    "import matplotlib.ticker as ticker\n",
    "\n",
    "\n",
    "plt.rcParams['axes.xmargin'] = 0\n",
    "fig = plt.figure(figsize=(12, 6),facecolor='white')\n",
    "plt.xticks(r, names, fontweight='bold')\n",
    "#ax = plt.gca()\n",
    "\n",
    "\n",
    "ax = plt.gca()\n",
    "\n",
    "formatter = ticker.FormatStrFormatter('$%1g')\n",
    "ax.yaxis.set_major_formatter(formatter)\n",
    "\n",
    "ax.bar(r, bar1, color='blue', edgecolor='white', width=barWidth) # MPS\n",
    "# Create green bars (middle), on top of the firs ones\n",
    "ax.bar(r, bar2, bottom=bar1, color='lightgreen', edgecolor='white', width=barWidth) #GEO\n",
    "ax.bar(r, bar3, bottom=np.add(bar1, bar2), color='darkblue', edgecolor='white', width=barWidth) #ENG\n",
    "ax.bar(r, bar4, bottom=bars2, color='orange', edgecolor='white', width=barWidth) #BIO\n",
    "ax.bar(r, bar5, bottom=bars3, color='whitesmoke', edgecolor='white', width=barWidth) # SICE\n",
    "ax.bar(r, bar6, bottom=bars4, color='red', edgecolor='white', width=barWidth) # SBE\n",
    "ax.bar(r, bar7, bottom=bars5, color='darkgrey', edgecolor='white', width=barWidth) # Other R&RA\n",
    "ax.bar(r, bar8, bottom=bars6, color='k', edgecolor='white', width=barWidth) # MREFC\n",
    "ax.bar(r, bar9, bottom=bars7, color='slateblue', edgecolor='white', width=barWidth) # EHR\n",
    "ax.bar(r, bar10, bottom=bars8, color='mediumslateblue', edgecolor='white', width=barWidth) # All Other\n",
    "ax.bar(r, bar11, bottom=bars9, color='darkgreen', edgecolor='white', width=barWidth) # ARRA\n",
    "ax.grid(axis='y')\n",
    "plt.legend()\n",
    "plt.xticks(rotation=70)\n",
    "ax.legend(['MPS','GEO', 'ENG','BIO', 'SICE','SBE','Other R&RA','MREFC','EHR','All Other','NSF ARRA'], loc='upper left')\n",
    "plt.savefig('Figure-1B-nsf-per-year-budget-2010-2017.png')\n",
    "plt.savefig('Figure-1B-nsf-per-year-budget-1990-2017.svg')\n",
    "plt.show()\n"
   ]
  },
  {
   "cell_type": "code",
   "execution_count": null,
   "metadata": {},
   "outputs": [],
   "source": []
  }
 ],
 "metadata": {
  "kernelspec": {
   "display_name": "Python 3",
   "language": "python",
   "name": "python3"
  },
  "language_info": {
   "codemirror_mode": {
    "name": "ipython",
    "version": 3
   },
   "file_extension": ".py",
   "mimetype": "text/x-python",
   "name": "python",
   "nbconvert_exporter": "python",
   "pygments_lexer": "ipython3",
   "version": "3.7.1"
  }
 },
 "nbformat": 4,
 "nbformat_minor": 2
}
