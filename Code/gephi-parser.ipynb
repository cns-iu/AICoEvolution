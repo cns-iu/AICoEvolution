{
 "cells": [
  {
   "cell_type": "markdown",
   "metadata": {},
   "source": [
    "# Gephi Parser"
   ]
  },
  {
   "cell_type": "code",
   "execution_count": null,
   "metadata": {},
   "outputs": [],
   "source": [
    "Assign ID to Authors:\n",
    "    - extract Author1 with lon/lat\n",
    "    - extract Author2 with lon/lat\n",
    "    - merge Author2 and Author1, assign ids if Author2 is missing from Author1 (nodes)\n",
    "    - create edge file: author1 > author2 with weight JoinCitations/JointPublications"
   ]
  },
  {
   "cell_type": "code",
   "execution_count": null,
   "metadata": {},
   "outputs": [],
   "source": [
    "import pandas as pd\n",
    "import numpy as np\n",
    "import string"
   ]
  },
  {
   "cell_type": "code",
   "execution_count": null,
   "metadata": {},
   "outputs": [],
   "source": [
    "edges = pd.read_csv(\"Co-Author Links.csv\", encoding = 'latin1')\n",
    "nodes = pd.read_csv(\"Authors-coordinates.csv\", encoding = 'latin1')"
   ]
  },
  {
   "cell_type": "code",
   "execution_count": null,
   "metadata": {},
   "outputs": [],
   "source": [
    "nodes = nodes.assign(id=(nodes['Author']).astype('category').cat.codes)\n",
    "ids = nodes[['Author','id']]\n",
    "di = ids.set_index('Author').T.to_dict('list')"
   ]
  },
  {
   "cell_type": "code",
   "execution_count": null,
   "metadata": {},
   "outputs": [],
   "source": [
    "edges['source'] = edges['Author1'].map(di).str.get(0)\n",
    "edges['target'] = edges['Author2'].map(di).str.get(0)"
   ]
  },
  {
   "cell_type": "code",
   "execution_count": null,
   "metadata": {},
   "outputs": [],
   "source": [
    "nodes.to_csv(\"nodes-ai.csv\",index=False)\n",
    "edges.to_csv(\"edges-ai.csv\",index=False)"
   ]
  }
 ],
 "metadata": {
  "kernelspec": {
   "display_name": "Python 3",
   "language": "python",
   "name": "python3"
  },
  "language_info": {
   "codemirror_mode": {
    "name": "ipython",
    "version": 3
   },
   "file_extension": ".py",
   "mimetype": "text/x-python",
   "name": "python",
   "nbconvert_exporter": "python",
   "pygments_lexer": "ipython3",
   "version": "3.7.1"
  }
 },
 "nbformat": 4,
 "nbformat_minor": 4
}
