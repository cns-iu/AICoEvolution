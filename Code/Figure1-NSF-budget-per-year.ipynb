{
 "cells": [
  {
   "cell_type": "markdown",
   "metadata": {},
   "source": [
    "## Figure 1 Stacked Bar Chart"
   ]
  },
  {
   "cell_type": "code",
   "execution_count": 100,
   "metadata": {},
   "outputs": [],
   "source": [
    "%matplotlib inline\n",
    "import matplotlib\n",
    "import matplotlib.pyplot as plt\n",
    "import numpy as np\n",
    "import pandas as pd\n",
    "from matplotlib.ticker import MaxNLocator\n",
    "from matplotlib.ticker import FuncFormatter"
   ]
  },
  {
   "cell_type": "markdown",
   "metadata": {},
   "source": [
    "### Import Data"
   ]
  },
  {
   "cell_type": "code",
   "execution_count": 87,
   "metadata": {},
   "outputs": [],
   "source": [
    "data_import = pd.read_csv('~/Documents/CNS/CRANE/Figures/Figure1-Totals/nsf-request-appropriation2000-2019.csv', \n",
    "                          encoding='latin1', sep=\",\")"
   ]
  },
  {
   "cell_type": "code",
   "execution_count": 88,
   "metadata": {},
   "outputs": [
    {
     "data": {
      "text/html": [
       "<div>\n",
       "<style scoped>\n",
       "    .dataframe tbody tr th:only-of-type {\n",
       "        vertical-align: middle;\n",
       "    }\n",
       "\n",
       "    .dataframe tbody tr th {\n",
       "        vertical-align: top;\n",
       "    }\n",
       "\n",
       "    .dataframe thead th {\n",
       "        text-align: right;\n",
       "    }\n",
       "</style>\n",
       "<table border=\"1\" class=\"dataframe\">\n",
       "  <thead>\n",
       "    <tr style=\"text-align: right;\">\n",
       "      <th></th>\n",
       "      <th>Year</th>\n",
       "      <th>R-RA</th>\n",
       "      <th>EHR</th>\n",
       "      <th>MREFC</th>\n",
       "      <th>AOAM</th>\n",
       "      <th>OIG</th>\n",
       "      <th>NSB</th>\n",
       "      <th>ARRA</th>\n",
       "      <th>NSF</th>\n",
       "    </tr>\n",
       "  </thead>\n",
       "  <tbody>\n",
       "    <tr>\n",
       "      <th>0</th>\n",
       "      <td>2000</td>\n",
       "      <td>2973</td>\n",
       "      <td>691</td>\n",
       "      <td>94</td>\n",
       "      <td>149</td>\n",
       "      <td>5</td>\n",
       "      <td>0</td>\n",
       "      <td>0</td>\n",
       "      <td>3912</td>\n",
       "    </tr>\n",
       "    <tr>\n",
       "      <th>1</th>\n",
       "      <td>2001</td>\n",
       "      <td>3356</td>\n",
       "      <td>786</td>\n",
       "      <td>121</td>\n",
       "      <td>161</td>\n",
       "      <td>6</td>\n",
       "      <td>0</td>\n",
       "      <td>0</td>\n",
       "      <td>4431</td>\n",
       "    </tr>\n",
       "    <tr>\n",
       "      <th>2</th>\n",
       "      <td>2002</td>\n",
       "      <td>3612</td>\n",
       "      <td>894</td>\n",
       "      <td>139</td>\n",
       "      <td>171</td>\n",
       "      <td>7</td>\n",
       "      <td>0</td>\n",
       "      <td>0</td>\n",
       "      <td>4823</td>\n",
       "    </tr>\n",
       "    <tr>\n",
       "      <th>3</th>\n",
       "      <td>2003</td>\n",
       "      <td>4069</td>\n",
       "      <td>903</td>\n",
       "      <td>149</td>\n",
       "      <td>189</td>\n",
       "      <td>9</td>\n",
       "      <td>3</td>\n",
       "      <td>0</td>\n",
       "      <td>5323</td>\n",
       "    </tr>\n",
       "    <tr>\n",
       "      <th>4</th>\n",
       "      <td>2004</td>\n",
       "      <td>4262</td>\n",
       "      <td>939</td>\n",
       "      <td>155</td>\n",
       "      <td>219</td>\n",
       "      <td>10</td>\n",
       "      <td>4</td>\n",
       "      <td>0</td>\n",
       "      <td>5589</td>\n",
       "    </tr>\n",
       "  </tbody>\n",
       "</table>\n",
       "</div>"
      ],
      "text/plain": [
       "   Year  R-RA  EHR  MREFC  AOAM  OIG  NSB  ARRA   NSF\n",
       "0  2000  2973  691     94   149    5    0     0  3912\n",
       "1  2001  3356  786    121   161    6    0     0  4431\n",
       "2  2002  3612  894    139   171    7    0     0  4823\n",
       "3  2003  4069  903    149   189    9    3     0  5323\n",
       "4  2004  4262  939    155   219   10    4     0  5589"
      ]
     },
     "execution_count": 88,
     "metadata": {},
     "output_type": "execute_result"
    }
   ],
   "source": [
    "data_import.head()"
   ]
  },
  {
   "cell_type": "code",
   "execution_count": 89,
   "metadata": {},
   "outputs": [],
   "source": [
    "# The position of the bars on the x-axis\n",
    "r = list(range(2000,2018))\n",
    "# Names of group and bar width\n",
    "names = data_import.Year.values\n",
    "barWidth = 1\n"
   ]
  },
  {
   "cell_type": "code",
   "execution_count": 114,
   "metadata": {},
   "outputs": [],
   "source": [
    "bar1 = list(data_import['R-RA'].values.astype(int))\n",
    "bar2 = list(data_import['EHR'].values.astype(int))\n",
    "bar3 = list(data_import['MREFC'].values.astype(int))\n",
    "bar4 = list(data_import['AOAM'].values.astype(int))\n",
    "bar5 = list(data_import['OIG'].values.astype(int))\n",
    "bar6 = list(data_import['NSB'].values.astype(int))\n",
    "bar7 = list(data_import['ARRA'].values.astype(int))\n",
    "\n",
    "# Heights of bars1 + bars2\n",
    "bars = np.add(bar1, bar2).tolist()\n",
    "bars2 = np.add(bars, bar3).tolist()\n",
    "bars3 = np.add(bars2, bar4).tolist()\n",
    "bars4 = np.add(bars3, bar5).tolist()\n",
    "bars5 = np.add(bars4, bar6).tolist()"
   ]
  },
  {
   "cell_type": "code",
   "execution_count": 123,
   "metadata": {},
   "outputs": [
    {
     "name": "stderr",
     "output_type": "stream",
     "text": [
      "No handles with labels found to put in legend.\n"
     ]
    },
    {
     "data": {
      "image/png": "[encoded data removed]",
      "text/plain": [
       "<Figure size 864x432 with 1 Axes>"
      ]
     },
     "metadata": {},
     "output_type": "display_data"
    }
   ],
   "source": [
    "plt.rcParams['axes.xmargin'] = 0\n",
    "fig = plt.figure(figsize=(12, 6),facecolor='white')\n",
    "plt.xticks(r, names, fontweight='bold')\n",
    "ax = plt.gca()\n",
    "# Create brown bars\n",
    "plt.bar(r, bar1, color='#7f6d5f', edgecolor='white', width=barWidth) # brown R-RA\n",
    "# Create green bars (middle), on top of the firs ones\n",
    "plt.bar(r, bar2, bottom=bar1, color='lightgrey', edgecolor='white', width=barWidth) #EHR\n",
    "plt.bar(r, bar3, bottom=bars, color='darkgreen', edgecolor='white', width=barWidth) #MREFC\n",
    "plt.bar(r, bar4, bottom=bars2, color='darkblue', edgecolor='white', width=barWidth) #AOAM\n",
    "plt.bar(r, bar5, bottom=bars3, color='green', edgecolor='white', width=barWidth) # OIG\n",
    "plt.bar(r, bar6, bottom=bars4, color='red', edgecolor='white', width=barWidth) # NSB\n",
    "plt.bar(r, bar7, bottom=bars5, color='lightblue', edgecolor='white', width=barWidth) # ARRA\n",
    "\n",
    "ax.get_yaxis().set_major_formatter(\n",
    "    matplotlib.ticker.FuncFormatter(lambda x, p: format(int(x), ',')))\n",
    "plt.legend()\n",
    "plt.xticks(rotation=70)\n",
    "plt.legend(['R&RA','EHR', 'MREFC', 'AOAM','OIG','NSB','ARRA'], loc='upper left')\n",
    "plt.savefig('nsf-per-year-budget-2010-2017.png')\n",
    "plt.savefig('nsf-per-year-budget-1990-2017.svg')\n",
    "plt.show()\n"
   ]
  },
  {
   "cell_type": "code",
   "execution_count": null,
   "metadata": {},
   "outputs": [],
   "source": []
  }
 ],
 "metadata": {
  "kernelspec": {
   "display_name": "Python 3",
   "language": "python",
   "name": "python3"
  },
  "language_info": {
   "codemirror_mode": {
    "name": "ipython",
    "version": 3
   },
   "file_extension": ".py",
   "mimetype": "text/x-python",
   "name": "python",
   "nbconvert_exporter": "python",
   "pygments_lexer": "ipython3",
   "version": "3.7.1"
  }
 },
 "nbformat": 4,
 "nbformat_minor": 2
}
