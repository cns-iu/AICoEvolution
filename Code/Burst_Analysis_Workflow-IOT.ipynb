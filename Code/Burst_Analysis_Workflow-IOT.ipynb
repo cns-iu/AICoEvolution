{
 "cells": [
  {
   "cell_type": "markdown",
   "metadata": {
    "colab_type": "text",
    "id": "HDbuSH5jv8O5"
   },
   "source": [
    "## Burst Analysis Workflow - IOT\n",
    "- Input:\n",
    "    * sci2-iot-nsf-output.csv\n",
    "    * sci2-iot-wos-output.csv"
   ]
  },
  {
   "cell_type": "code",
   "execution_count": null,
   "metadata": {
    "colab": {},
    "colab_type": "code",
    "id": "d1Lp8lz3v8O8"
   },
   "outputs": [],
   "source": [
    "%matplotlib inline\n",
    "import sys\n",
    "from collections import defaultdict, Counter\n",
    "import numpy as np\n",
    "import pandas as pd\n",
    "import pylab as plt\n",
    "import math\n",
    "from os import listdir\n",
    "import random\n",
    "import time\n",
    "import matplotlib.cm as cm\n",
    "from numpy.random import choice\n",
    "import itertools\n",
    "import operator\n",
    "import itertools\n",
    "from datetime import datetime as dt\n",
    "import matplotlib.mlab as mlab\n",
    "import re\n",
    "from matplotlib_venn import venn3, venn3_circles, venn2, venn2_circles\n",
    "from matplotlib.ticker import MaxNLocator"
   ]
  },
  {
   "cell_type": "code",
   "execution_count": null,
   "metadata": {
    "colab": {},
    "colab_type": "code",
    "id": "HFt2ZCBSv8O-"
   },
   "outputs": [],
   "source": [
    "area='iot'"
   ]
  },
  {
   "cell_type": "markdown",
   "metadata": {
    "colab_type": "text",
    "id": "Cj3rQDbXv8PB"
   },
   "source": [
    "### Step 1 Normalize keywords in OpenRefine (see documentation) (https://openrefine.org/)\n",
    "### Step 2 Run Burst Analysis in Sci2 (https://sci2.cns.iu.edu/user/index.php)\n",
    "- input: \n",
    "    * [area]\\_wos_keywords.csv\n",
    "    * [area]\\_nsf_keywords.csv\n",
    "- get output:\n",
    "    * [area]\\_wos_input.csv\n",
    "    * [area]\\_nsf_input.csv"
   ]
  },
  {
   "cell_type": "markdown",
   "metadata": {
    "colab_type": "text",
    "id": "YZ64hg5Uv8PB"
   },
   "source": [
    "### Step 3 Get Burst Graph"
   ]
  },
  {
   "cell_type": "markdown",
   "metadata": {
    "colab_type": "text",
    "id": "r0SfSQwNv8PC"
   },
   "source": [
    "#### 1) Load data generated from Sci2"
   ]
  },
  {
   "cell_type": "code",
   "execution_count": null,
   "metadata": {
    "colab": {},
    "colab_type": "code",
    "id": "I1q52bCDv8PC"
   },
   "outputs": [],
   "source": [
    "wos_burst_path='data/sci2-iot-wos-output.csv'\n",
    "nsf_burst_path='data/sci2-iot-nsf-output.csv'\n",
    "WOSkw = pd.read_csv(wos_burst_path)\n",
    "NSFkw = pd.read_csv(nsf_burst_path)\n",
    "NSFkw['Word'] = NSFkw['Word'].str.replace('-',' ')  # remove underscores\n",
    "WOSkw['Word'] = WOSkw['Word'].str.replace('-',' ')  # remove underscores\n",
    "WOSkw['Word'] = WOSkw['Word'].str.lower() "
   ]
  },
  {
   "cell_type": "code",
   "execution_count": null,
   "metadata": {
    "colab": {},
    "colab_type": "code",
    "id": "a5AfpNfCv8PE"
   },
   "outputs": [],
   "source": [
    "### Merge two sets\n",
    "WOSkw['Word'] = WOSkw['Word'].str.title() \n",
    "WOSkw['cat'] = 'wos'\n",
    "NSFkw['Word'] = NSFkw['Word'].str.title() \n",
    "NSFkw['cat'] = 'nsf'\n",
    "nsfwosai = pd.concat([WOSkw, NSFkw], ignore_index=True)"
   ]
  },
  {
   "cell_type": "code",
   "execution_count": null,
   "metadata": {
    "colab": {},
    "colab_type": "code",
    "id": "wrUnGNPwv8PG",
    "outputId": "40db244d-73d8-4d0b-fcdc-6e37c42cecf2"
   },
   "outputs": [
    {
     "name": "stdout",
     "output_type": "stream",
     "text": [
      "Total WOS IOT bursts: 77\n",
      "Total NSF IOT bursts: 77\n"
     ]
    }
   ],
   "source": [
    "print('Total WOS IOT bursts:', len(WOSkw))\n",
    "print('Total NSF IOT bursts:', len(NSFkw))"
   ]
  },
  {
   "cell_type": "markdown",
   "metadata": {
    "colab_type": "text",
    "id": "cXInMBydv8PJ"
   },
   "source": [
    "### Sort"
   ]
  },
  {
   "cell_type": "code",
   "execution_count": null,
   "metadata": {
    "colab": {},
    "colab_type": "code",
    "id": "E5wPHXojv8PK",
    "outputId": "df373c0c-bd28-4f9b-93a9-8e1fd5aebffb"
   },
   "outputs": [
    {
     "name": "stdout",
     "output_type": "stream",
     "text": [
      "nsf-max 4.2555282960000005 Vehicles\n",
      "wos-max 62.154923600000004 Rfid\n",
      "nsf-min 1.796352126 Tiny\n",
      "wos-min 2.7137217760000003 Service\n"
     ]
    }
   ],
   "source": [
    "#Top Bursts\n",
    "print('nsf-max',max(NSFkw.Weight),NSFkw.loc[NSFkw.Weight==max(NSFkw.Weight),'Word'].values[0])\n",
    "print('wos-max',max(WOSkw.Weight),WOSkw.loc[WOSkw.Weight==max(WOSkw.Weight),'Word'].values[0])\n",
    "print('nsf-min',min(NSFkw.Weight),NSFkw.loc[NSFkw.Weight==min(NSFkw.Weight),'Word'].values[0])\n",
    "print('wos-min',min(WOSkw.Weight),WOSkw.loc[WOSkw.Weight==min(WOSkw.Weight),'Word'].values[0])"
   ]
  },
  {
   "cell_type": "markdown",
   "metadata": {
    "colab_type": "text",
    "id": "CdLzZDjgv8PM"
   },
   "source": [
    "### Double Bursts "
   ]
  },
  {
   "cell_type": "code",
   "execution_count": null,
   "metadata": {
    "colab": {},
    "colab_type": "code",
    "id": "bKnuqlmxv8PM",
    "outputId": "0dc15ad1-9166-4cac-8713-333caf761bc1"
   },
   "outputs": [
    {
     "data": {
      "text/plain": [
       "Series([], Name: cat, dtype: int64)"
      ]
     },
     "execution_count": 4,
     "metadata": {
      "tags": []
     },
     "output_type": "execute_result"
    }
   ],
   "source": [
    "# WOS Double Burst\n",
    "# Select all duplicate terms based on Word column\n",
    "dub = WOSkw[WOSkw.duplicated(['Word'], keep=False)].sort_values('Word',ascending=False)\n",
    "dub.groupby('Word')['cat'].count()"
   ]
  },
  {
   "cell_type": "code",
   "execution_count": null,
   "metadata": {
    "colab": {},
    "colab_type": "code",
    "id": "jYrT7ZqLv8PO",
    "outputId": "c4a1aaa5-9182-4765-b0f2-93d4a4686110"
   },
   "outputs": [
    {
     "name": "stdout",
     "output_type": "stream",
     "text": [
      "0\n"
     ]
    },
    {
     "data": {
      "text/plain": [
       "Series([], Name: cat, dtype: int64)"
      ]
     },
     "execution_count": 5,
     "metadata": {
      "tags": []
     },
     "output_type": "execute_result"
    }
   ],
   "source": [
    "#NSF Double Burst\n",
    "dub = NSFkw[NSFkw.duplicated(['Word'], keep=False)].sort_values('Word',ascending=False)\n",
    "dub.groupby('Word')['cat'].count()\n",
    "print(len(dub.groupby('Word')['cat'].count()))\n",
    "dub.groupby('Word')['cat'].count()"
   ]
  },
  {
   "cell_type": "code",
   "execution_count": null,
   "metadata": {
    "colab": {},
    "colab_type": "code",
    "id": "VIUbAu3Xv8PQ",
    "outputId": "39d61d9f-e76f-4d1f-e283-ad3c19350ac3"
   },
   "outputs": [
    {
     "name": "stdout",
     "output_type": "stream",
     "text": [
      "Overlapped keywords between NSF/WOS -  0\n"
     ]
    }
   ],
   "source": [
    "# Select all duplicate terms based on Word column\n",
    "set1 = set(NSFkw.Word)\n",
    "set2 =  set(WOSkw.Word)\n",
    "print('Overlapped keywords between NSF/WOS - ',len(set1.intersection(set2)))"
   ]
  },
  {
   "cell_type": "markdown",
   "metadata": {
    "colab_type": "text",
    "id": "ZK_AIJgkv8PS"
   },
   "source": [
    "### Top 10"
   ]
  },
  {
   "cell_type": "code",
   "execution_count": null,
   "metadata": {
    "colab": {},
    "colab_type": "code",
    "id": "-nof9zSqv8PT"
   },
   "outputs": [],
   "source": [
    "wos_top={}\n",
    "\n",
    "# sum weight and pick top15\n",
    "for i in WOSkw.index:\n",
    "    word=WOSkw['Word'][i].lower()\n",
    "    weight=WOSkw['Weight'][i]\n",
    "    start=WOSkw['Start'][i]\n",
    "    end=WOSkw['End'][i]\n",
    "    if word in wos_top:\n",
    "        wos_top[word][0]+=weight\n",
    "        if start<wos_top[word][1]:\n",
    "            wos_top[word][1]=start\n",
    "            wos_top[word][2]=end \n",
    "    else:\n",
    "        wos_top[word]=[weight,start,end]\n",
    "\n",
    "wos_df=pd.DataFrame.from_dict(wos_top,\n",
    "                       orient='index', columns=['sum_weight', 'first_start','end'])\n",
    "\n",
    "wos_topdf=wos_df.sort_values(ascending=[False],by=['sum_weight'])[0:8]  \n",
    "\n",
    "for i in WOSkw.index:\n",
    "    if WOSkw['Word'][i].lower() not in wos_topdf.index:\n",
    "        WOSkw=WOSkw.drop([i])\n",
    "WOSkw=WOSkw.reset_index(drop=True)        \n",
    "WOSkw['Word']=[i.lower() for i in list(WOSkw['Word'])]"
   ]
  },
  {
   "cell_type": "code",
   "execution_count": null,
   "metadata": {
    "colab": {},
    "colab_type": "code",
    "id": "uicR9ltGv8PV"
   },
   "outputs": [],
   "source": [
    "nsf_top={}\n",
    "\n",
    "# sum weight and pick top15\n",
    "for i in NSFkw.index:\n",
    "    word=NSFkw['Word'][i].lower()\n",
    "    weight=NSFkw['Weight'][i]\n",
    "    start=NSFkw['Start'][i]\n",
    "    end=NSFkw['End'][i]\n",
    "    if word in nsf_top:\n",
    "        nsf_top[word][0]+=weight\n",
    "        if start<nsf_top[word][1]:\n",
    "            nsf_top[word][1]=start\n",
    "            nsf_top[word][2]=end        \n",
    "    else:\n",
    "        nsf_top[word]=[weight,start,end]\n",
    "\n",
    "nsf_df=pd.DataFrame.from_dict(nsf_top,\n",
    "                       orient='index', columns=['sum_weight', 'first_start','end'])\n",
    "\n",
    "nsf_topdf=nsf_df.sort_values(ascending=[False],by=['sum_weight'])[0:7]  \n",
    "\n",
    "for i in NSFkw.index:\n",
    "    if NSFkw['Word'][i].lower() not in nsf_topdf.index:\n",
    "        NSFkw=NSFkw.drop([i])\n",
    "NSFkw=NSFkw.reset_index(drop=True)     \n",
    "NSFkw['Word']=[i.lower() for i in list(NSFkw['Word'])]"
   ]
  },
  {
   "cell_type": "code",
   "execution_count": null,
   "metadata": {
    "colab": {},
    "colab_type": "code",
    "id": "48x-mdZWv8PW"
   },
   "outputs": [],
   "source": [
    "allkw_list=pd.concat([nsf_topdf,wos_topdf])\n",
    "allkw_list=allkw_list.sort_values(ascending=[True,True,False],by=['first_start','end','sum_weight'])\n",
    "allkw_list=allkw_list.reset_index()"
   ]
  },
  {
   "cell_type": "markdown",
   "metadata": {
    "colab_type": "text",
    "id": "JIcGUhB8v8Pc"
   },
   "source": [
    "#### Overlap between NSf and WOS"
   ]
  },
  {
   "cell_type": "code",
   "execution_count": null,
   "metadata": {
    "colab": {},
    "colab_type": "code",
    "id": "nw5QeFnMv8Pc"
   },
   "outputs": [],
   "source": [
    "overlap=allkw_list[list(allkw_list['index'].duplicated()==True)]\n",
    "allkw_list=allkw_list[list(allkw_list['index'].duplicated()!=True)] #remove duplicated\n",
    "allkw_list=allkw_list.reset_index()"
   ]
  },
  {
   "cell_type": "code",
   "execution_count": null,
   "metadata": {
    "colab": {},
    "colab_type": "code",
    "id": "xztXgfRdv8Pg"
   },
   "outputs": [],
   "source": [
    "allkw_list.to_csv(\"top-15-iot.csv\", index=False)"
   ]
  },
  {
   "cell_type": "code",
   "execution_count": null,
   "metadata": {
    "colab": {},
    "colab_type": "code",
    "id": "r9TX6bzav8Ph"
   },
   "outputs": [],
   "source": [
    "overlap_list=pd.DataFrame(columns=['Word','Length','Weight','Start','End'])\n",
    "for i in range(len(overlap)):\n",
    "    print(overlap['index'].values[i]+'-NSF: ')\n",
    "    print(len(NSFkw.loc[NSFkw.Word==overlap['index'].values[i],]))\n",
    "    print(overlap['index'].values[i]+'-WOS: ')\n",
    "    print(len(WOSkw.loc[WOSkw.Word==overlap['index'].values[i],]))\n",
    "    nsf_ol=NSFkw.loc[NSFkw.Word==overlap['index'].values[i],]\n",
    "    wos_ol=WOSkw.loc[WOSkw.Word==overlap['index'].values[i],]\n",
    "    nsf_ol=nsf_ol.reset_index()\n",
    "    wos_ol=wos_ol.reset_index()\n",
    "    for k in range(len(nsf_ol)):\n",
    "        for j in range(len(wos_ol)):\n",
    "            Word=nsf_ol.loc[k,'Word']\n",
    "            Level=1\n",
    "            Weight=max(nsf_ol.loc[k,'Weight'],wos_ol.loc[j,'Weight'])\n",
    "            max_Start=max(nsf_ol.loc[k,'Start'],wos_ol.loc[j,'Start'])\n",
    "            min_End=min(nsf_ol.loc[k,'End'],wos_ol.loc[j,'End'])\n",
    "            if max_Start<=min_End: ##has overlapped year \n",
    "                overlap_list.loc[len(overlap_list),['Word','Weight','Start','End']]=[Word,Weight,max_Start,min_End]\n",
    "                overlap_list.loc[len(overlap_list)-1,['Length']]=[min_End-max_Start+1]"
   ]
  },
  {
   "cell_type": "code",
   "execution_count": null,
   "metadata": {
    "colab": {},
    "colab_type": "code",
    "id": "JaPMMOWbv8Pj",
    "outputId": "7aa10dc0-0958-4d36-aa10-b1b4d3baa3ae"
   },
   "outputs": [
    {
     "data": {
      "text/html": [
       "<div>\n",
       "<style scoped>\n",
       "    .dataframe tbody tr th:only-of-type {\n",
       "        vertical-align: middle;\n",
       "    }\n",
       "\n",
       "    .dataframe tbody tr th {\n",
       "        vertical-align: top;\n",
       "    }\n",
       "\n",
       "    .dataframe thead th {\n",
       "        text-align: right;\n",
       "    }\n",
       "</style>\n",
       "<table border=\"1\" class=\"dataframe\">\n",
       "  <thead>\n",
       "    <tr style=\"text-align: right;\">\n",
       "      <th></th>\n",
       "      <th>Word</th>\n",
       "      <th>Length</th>\n",
       "      <th>Weight</th>\n",
       "      <th>Start</th>\n",
       "      <th>End</th>\n",
       "    </tr>\n",
       "  </thead>\n",
       "  <tbody>\n",
       "  </tbody>\n",
       "</table>\n",
       "</div>"
      ],
      "text/plain": [
       "Empty DataFrame\n",
       "Columns: [Word, Length, Weight, Start, End]\n",
       "Index: []"
      ]
     },
     "execution_count": 26,
     "metadata": {
      "tags": []
     },
     "output_type": "execute_result"
    }
   ],
   "source": [
    "overlap_list"
   ]
  },
  {
   "cell_type": "code",
   "execution_count": null,
   "metadata": {
    "colab": {},
    "colab_type": "code",
    "id": "WGDf7aRKv8Pm"
   },
   "outputs": [],
   "source": [
    "WOSkw['Word'] = WOSkw['Word'].str.title() \n",
    "NSFkw['Word'] = NSFkw['Word'].str.title() \n",
    "overlap_list['Word'] = overlap_list['Word'].str.title()\n",
    "allkw_list['index'] = allkw_list['index'].str.title()"
   ]
  },
  {
   "cell_type": "code",
   "execution_count": null,
   "metadata": {
    "colab": {},
    "colab_type": "code",
    "id": "An5zOpQvv8Pp"
   },
   "outputs": [],
   "source": [
    "allkw_list['index'].replace('Epc','EPC',inplace=True)\n",
    "allkw_list['index'].replace('Rfid','RFID',inplace=True)\n",
    "allkw_list['index'].replace('6Lowpan','6loWPAN',inplace=True)\n",
    "allkw_list['index'].replace('The Internet Of Things','The Internet of Things',inplace=True)"
   ]
  },
  {
   "cell_type": "code",
   "execution_count": null,
   "metadata": {
    "colab": {},
    "colab_type": "code",
    "id": "K6QI1LQov8Ps"
   },
   "outputs": [],
   "source": [
    "WOSkw['Word'].replace('Epc','EPC',inplace=True)\n",
    "WOSkw['Word'].replace('Rfid','RFID',inplace=True)\n",
    "WOSkw['Word'].replace('6Lowpan','6loWPAN',inplace=True)\n",
    "WOSkw['Word'].replace('The Internet Of Things','The Internet of Things',inplace=True)\n",
    "NSFkw['Word'].replace('Epc','EPC',inplace=True)\n",
    "NSFkw['Word'].replace('Rfid','RFID',inplace=True)\n",
    "NSFkw['Word'].replace('6Lowpan','6loWPAN',inplace=True)\n",
    "NSFkw['Word'].replace('The Internet Of Things','The Internet of Things',inplace=True)"
   ]
  },
  {
   "cell_type": "markdown",
   "metadata": {
    "colab_type": "text",
    "id": "jFTsPcTWv8Pw"
   },
   "source": [
    "#### 2) Graph\n",
    "Plotting and formatting the data from given sources"
   ]
  },
  {
   "cell_type": "code",
   "execution_count": null,
   "metadata": {
    "colab": {},
    "colab_type": "code",
    "id": "H_XaNtPMv8Px"
   },
   "outputs": [],
   "source": [
    "wos = pd.read_csv('data/wos-three-domains-total-1998-2017.csv', encoding='latin1', sep=\",\")\n",
    "nsf = pd.read_csv('data/nsf-three-domains-total-1998-2017.csv', encoding='latin1', sep=\",\")"
   ]
  },
  {
   "cell_type": "markdown",
   "metadata": {
    "colab_type": "text",
    "id": "hrR0wA6pv8Pz"
   },
   "source": [
    "### Final Figure"
   ]
  },
  {
   "cell_type": "code",
   "execution_count": null,
   "metadata": {
    "colab": {},
    "colab_type": "code",
    "id": "tvh7XfkJv8Pz",
    "outputId": "6b1af684-ffd3-4302-8d4c-0667108d2166"
   },
   "outputs": [
    {
     "data": {
      "text/plain": [
       "<Figure size 288x465.984 with 0 Axes>"
      ]
     },
     "metadata": {
      "tags": []
     },
     "output_type": "display_data"
    }
   ],
   "source": [
    "w, h = plt.figaspect(1.618)\n",
    "fig = plt.figure(figsize=(w, h),facecolor='white')"
   ]
  },
  {
   "cell_type": "code",
   "execution_count": null,
   "metadata": {
    "colab": {},
    "colab_type": "code",
    "id": "TtDsy9EEv8P1",
    "outputId": "afeeeb4c-34b2-41f0-f181-dd64364d9a12"
   },
   "outputs": [
    {
     "data": {
      "text/plain": [
       "{'divide': 'warn', 'over': 'warn', 'under': 'ignore', 'invalid': 'warn'}"
      ]
     },
     "execution_count": 17,
     "metadata": {
      "tags": []
     },
     "output_type": "execute_result"
    }
   ],
   "source": [
    "plt.rcParams['axes.xmargin'] = 0 # remove whote margins\n",
    "plt.rcParams['svg.fonttype'] = 'none' # for svg formatting\n",
    "plt.rc('xtick', labelsize=13) \n",
    "plt.rc('ytick', labelsize=13) \n",
    "plt.rcParams['font.sans-serif'] = \"Arial\"\n",
    "\n",
    "plt.rcParams['font.family'] = \"sans-serif\"\n",
    "\n",
    "np.seterr(divide='ignore', invalid='ignore') # to remove warning messages"
   ]
  },
  {
   "cell_type": "code",
   "execution_count": null,
   "metadata": {
    "colab": {},
    "colab_type": "code",
    "id": "oP9ANXsFv8P3",
    "outputId": "2b489c75-15e6-426c-b256-e09969489239"
   },
   "outputs": [
    {
     "data": {
      "image/png": "[encoded data removed]",
      "text/plain": [
       "<Figure size 465.984x288 with 2 Axes>"
      ]
     },
     "metadata": {
      "tags": []
     },
     "output_type": "display_data"
    }
   ],
   "source": [
    "plt.rcParams['svg.fonttype'] = 'none' # for svg formatting\n",
    "np.seterr(divide='ignore', invalid='ignore') # to remove warning messages\n",
    "plt.rc('xtick', labelsize=15) # change size of labels\n",
    "plt.rc('ytick', labelsize=15) # change size of labels\n",
    "# \"the default sans-serif font is Arial\"\n",
    "plt.rcParams['font.sans-serif'] = \"Arial\"\n",
    "plt.rcParams['font.family'] = \"sans-serif\"\n",
    "w, h = plt.figaspect(1.618)\n",
    "fig = plt.figure(figsize=(h, w),facecolor='white')\n",
    "ax1 = fig.add_subplot(111)\n",
    "\n",
    "x = [1998, 1999, 2000,2001,2002,2003, 2004,2005, 2006, 2007, 2008, 2009,2010, 2011, 2012, 2013, 2014, 2015, 2016, 2017,2018]\n",
    "\n",
    "max_weight = 62.16\n",
    "\n",
    "ax1.set_ylim(0, max(max(wos.IoT.values),max(nsf.IoT.values))) # adjust ylim\n",
    "ax1.set_xlim((1998, 2018))\n",
    "\n",
    "ax1.xaxis.set_major_locator(MaxNLocator(integer=True))\n",
    "ax1.axes.set_xticklabels(x) \n",
    "ax1.set_xticklabels(x, rotation=45)\n",
    "\n",
    "ax1.plot(wos.year.values,wos.IoT.values, linewidth = 2, color=\"#EF6C00\")  # orange wos\n",
    "ax1.plot(wos.year.values,nsf.IoT.values,linewidth = 2,color = \"#0D47A1\")  # blue nsf\n",
    "\n",
    "ax1.grid(b=False) # turn off grid #2\n",
    "plt.axvline(x=2000, color='#9e9e9e',linewidth = 0.5)\n",
    "plt.axvline(x=2002, color='#9e9e9e',linewidth = 0.5)\n",
    "plt.axvline(x=2004, color='#9e9e9e',linewidth = 0.5)\n",
    "plt.axvline(x=2006, color='#9e9e9e',linewidth = 0.5)\n",
    "plt.axvline(x=2008, color='#9e9e9e',linewidth = 0.5)\n",
    "plt.axvline(x=2010, color='#9e9e9e',linewidth = 0.5)\n",
    "plt.axvline(x=2012, color='#9e9e9e',linewidth = 0.5)\n",
    "plt.axvline(x=2014, color='#9e9e9e',linewidth = 0.5)\n",
    "plt.axvline(x=2016, color='#9e9e9e',linewidth = 0.5)\n",
    "my_yticks=allkw_list['index']  \n",
    "\n",
    "ax2 = ax1.twinx()  # set up the 2nd axis\n",
    "\n",
    "for x in range(0,len(WOSkw)):\n",
    "    color=\"#EF6C00\" #orange -- wos\n",
    "    i=allkw_list.index[allkw_list['index']==WOSkw['Word'][x]].values[0]\n",
    "    \n",
    "    ax2.barh([i], width=WOSkw[x:(x+1)].Length, left=WOSkw[x:(x+1)].Start, color=color,height=WOSkw[x:(x+1)].Weight/max_weight*0.8+0.03,alpha=1)\n",
    "\n",
    "  \n",
    "for x in range(0,len(NSFkw)):\n",
    "    color=\"#0D47A1\" #blue -- nsf\n",
    "    i=allkw_list.index[allkw_list['index']==NSFkw['Word'][x]].values[0]\n",
    "    \n",
    "    ax2.barh([i], width=NSFkw[x:(x+1)].Length, left=NSFkw[x:(x+1)].Start, color=color,height=NSFkw[x:(x+1)].Weight/max_weight*0.8+0.03,alpha=1)\n",
    "\n",
    "    \n",
    "for x in range(0,len(overlap_list)):\n",
    "    color=\"#bdbdbd\" #grey -- nsf  grey\n",
    "    i=allkw_list.index[allkw_list['index']==overlap_list['Word'][x]].values[0]\n",
    "    \n",
    "    ax2.barh([i], width=overlap_list[x:(x+1)].Length, left=overlap_list[x:(x+1)].Start, color=color,height=overlap_list[x:(x+1)].Weight/max_weight*0.8+0.03,alpha=1)\n",
    "\n",
    "for x in range(0,15):\n",
    "    if len(allkw_list['index'][x]) < 8: \n",
    "        ax2.text(float(allkw_list[x:(x+1)].first_start-2.9), float(x-0.1) , allkw_list['index'][x], fontname='Arial',size=13)# addd values to bars\n",
    "    if len(allkw_list['index'][x]) <= 10 and  len(allkw_list['index'][x]) >= 8 : \n",
    "        ax2.text(float(allkw_list[x:(x+1)].first_start-3.9), float(x-0.1) , allkw_list['index'][x], fontname='Arial',size=13)# addd values to bars\n",
    "    if len(allkw_list['index'][x]) > 10 and  len(allkw_list['index'][x]) <=12  : \n",
    "        ax2.text(float(allkw_list[x:(x+1)].first_start-4.9), float(x-0.1) , allkw_list['index'][x], fontname='Arial',size=13)# addd values to bars\n",
    "    if len(allkw_list['index'][x]) > 12 and len(allkw_list['index'][x]) <= 22:\n",
    "        ax2.text(float(allkw_list[x:(x+1)].first_start-6.7), float(x-0.1) , allkw_list['index'][x], fontname='Arial',size=13)#\n",
    "    if len(allkw_list['index'][x]) > 22:\n",
    "        ax2.text(float(allkw_list[x:(x+1)].first_start-9.6), float(x-0.1) , allkw_list['index'][x], fontname='Arial',size=13)#\n",
    "\n",
    "ax2 = plt.gca()  \n",
    "\n",
    "ax2.xaxis.set_major_locator(MaxNLocator(integer=True))\n",
    "ax1.xaxis.set_major_locator(MaxNLocator(integer=True))\n",
    "ax1.set_xticks([1998, 1999, 2000,2001,2002,2003, 2004,2005, 2006, 2007, 2008, 2009,2010, 2011, 2012, 2013, 2014, 2015, 2016, 2017,2018])\n",
    "\n",
    "ax2.tick_params(axis=u'both', which=u'both',length=0)\n",
    "ax2.set_yticklabels([])\n",
    "\n",
    "plt.xticks(rotation=45)\n",
    "ax1.tick_params(axis=u'x', which=u'x',length=4)\n",
    "plt.setp(ax1.get_xticklabels()[1::2], visible=False)\n",
    "\n",
    "fig.tight_layout()\n",
    "\n",
    "plt.savefig('Fig-burst-iot.svg')\n",
    "plt.savefig('Fig-burst-iot.png')\n",
    "plt.show()"
   ]
  }
 ],
 "metadata": {
  "colab": {
   "collapsed_sections": [],
   "name": "Burst_Analysis_Workflow-IOT.ipynb",
   "provenance": []
  },
  "kernelspec": {
   "display_name": "Python 3",
   "language": "python",
   "name": "python3"
  },
  "language_info": {
   "codemirror_mode": {
    "name": "ipython",
    "version": 3
   },
   "file_extension": ".py",
   "mimetype": "text/x-python",
   "name": "python",
   "nbconvert_exporter": "python",
   "pygments_lexer": "ipython3",
   "version": "3.7.1"
  }
 },
 "nbformat": 4,
 "nbformat_minor": 4
}
