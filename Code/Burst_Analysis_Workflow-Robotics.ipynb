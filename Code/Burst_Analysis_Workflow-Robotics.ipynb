{
 "cells": [
  {
   "cell_type": "markdown",
   "metadata": {
    "colab_type": "text",
    "id": "JZGtwazdvvUJ"
   },
   "source": [
    "## Burst Analysis Workflow - Robotics\n",
    "- Input:\n",
    "    * sci2-robotics-nsf-output.csv\n",
    "    * sci2-robotics-wos-output.csv"
   ]
  },
  {
   "cell_type": "code",
   "execution_count": null,
   "metadata": {
    "colab": {},
    "colab_type": "code",
    "id": "0HjCE6w7vvUL"
   },
   "outputs": [],
   "source": [
    "%matplotlib inline\n",
    "import sys\n",
    "from collections import defaultdict, Counter\n",
    "import numpy as np\n",
    "import pandas as pd\n",
    "import pylab as plt\n",
    "import math\n",
    "from os import listdir\n",
    "import random\n",
    "import time\n",
    "import matplotlib.cm as cm\n",
    "from numpy.random import choice\n",
    "import itertools\n",
    "import operator\n",
    "import itertools\n",
    "from datetime import datetime as dt\n",
    "import matplotlib.mlab as mlab\n",
    "import re\n",
    "from matplotlib_venn import venn3, venn3_circles, venn2, venn2_circles\n",
    "from matplotlib.ticker import MaxNLocator"
   ]
  },
  {
   "cell_type": "code",
   "execution_count": null,
   "metadata": {
    "colab": {},
    "colab_type": "code",
    "id": "xRlBEganvvUO"
   },
   "outputs": [],
   "source": [
    "area='robotics'"
   ]
  },
  {
   "cell_type": "markdown",
   "metadata": {
    "colab_type": "text",
    "id": "1pmRfMZbvvUQ"
   },
   "source": [
    "### Step 1 Normalize keywords in OpenRefine (see documentation) (https://openrefine.org/)\n",
    "### Step 2 Run Burst Analysis in Sci2 (https://sci2.cns.iu.edu/user/index.php)\n",
    "- input: \n",
    "    * [area]\\_wos_keywords.csv\n",
    "    * [area]\\_nsf_keywords.csv\n",
    "- get output:\n",
    "    * [area]\\_wos_input.csv\n",
    "    * [area]\\_nsf_input.csv"
   ]
  },
  {
   "cell_type": "markdown",
   "metadata": {
    "colab_type": "text",
    "id": "SA6FnDr_vvUR"
   },
   "source": [
    "### Step 3 Get Burst Graph"
   ]
  },
  {
   "cell_type": "markdown",
   "metadata": {
    "colab_type": "text",
    "id": "iKj191MtvvUR"
   },
   "source": [
    "#### 1) Load data generated from Sci2"
   ]
  },
  {
   "cell_type": "code",
   "execution_count": null,
   "metadata": {
    "colab": {},
    "colab_type": "code",
    "id": "TAYDbewHvvUS"
   },
   "outputs": [],
   "source": [
    "wos_burst_path='data/sci2-robotics-wos-output.csv'\n",
    "nsf_burst_path='data/sci2-robotics-nsf-output.csv'\n",
    "WOSkw = pd.read_csv(wos_burst_path)\n",
    "NSFkw = pd.read_csv(nsf_burst_path)\n",
    "NSFkw['Word'] = NSFkw['Word'].str.replace('-',' ')  # remove underscores\n",
    "WOSkw['Word'] = WOSkw['Word'].str.replace('-',' ')  # remove underscores\n",
    "WOSkw['Word'] = WOSkw['Word'].str.lower() "
   ]
  },
  {
   "cell_type": "code",
   "execution_count": null,
   "metadata": {
    "colab": {},
    "colab_type": "code",
    "id": "Steez5lGvvUU"
   },
   "outputs": [],
   "source": [
    "### Merge two sets\n",
    "WOSkw['Word'] = WOSkw['Word'].str.title() \n",
    "WOSkw['cat'] = 'wos'\n",
    "NSFkw['Word'] = NSFkw['Word'].str.title() \n",
    "NSFkw['cat'] = 'nsf'\n",
    "nsfwosai = pd.concat([WOSkw, NSFkw], ignore_index=True)"
   ]
  },
  {
   "cell_type": "code",
   "execution_count": null,
   "metadata": {
    "colab": {},
    "colab_type": "code",
    "id": "o20z83Y-vvUW",
    "outputId": "d51a28d1-5e4f-4dac-9822-341a14ff3675"
   },
   "outputs": [
    {
     "name": "stdout",
     "output_type": "stream",
     "text": [
      "Total WOS Robotics bursts: 261\n",
      "Total NSF Robotics bursts: 654\n"
     ]
    }
   ],
   "source": [
    "print('Total WOS Robotics bursts:', len(WOSkw))\n",
    "print('Total NSF Robotics bursts:', len(NSFkw))"
   ]
  },
  {
   "cell_type": "markdown",
   "metadata": {
    "colab_type": "text",
    "id": "FAJNjXPHvvUZ"
   },
   "source": [
    "#### Sort"
   ]
  },
  {
   "cell_type": "code",
   "execution_count": null,
   "metadata": {
    "colab": {},
    "colab_type": "code",
    "id": "q1ZHU_GzvvUZ",
    "outputId": "3eab20da-b9c7-4e23-d7f2-62b370483b5b"
   },
   "outputs": [
    {
     "name": "stdout",
     "output_type": "stream",
     "text": [
      "nsf-max 31.55371572 law\n",
      "wos-max 58.14703685 soft robotics\n",
      "nsf-min 5.750830577 impacts\n",
      "wos-min 3.6032215439999997 neural networks\n"
     ]
    }
   ],
   "source": [
    "#Top Bursts\n",
    "print('nsf-max',max(NSFkw.Weight),NSFkw.loc[NSFkw.Weight==max(NSFkw.Weight),'Word'].values[0])\n",
    "print('wos-max',max(WOSkw.Weight),WOSkw.loc[WOSkw.Weight==max(WOSkw.Weight),'Word'].values[0])\n",
    "print('nsf-min',min(NSFkw.Weight),NSFkw.loc[NSFkw.Weight==min(NSFkw.Weight),'Word'].values[0])\n",
    "print('wos-min',min(WOSkw.Weight),WOSkw.loc[WOSkw.Weight==min(WOSkw.Weight),'Word'].values[0])"
   ]
  },
  {
   "cell_type": "markdown",
   "metadata": {
    "colab_type": "text",
    "id": "54osJl0MvvUb"
   },
   "source": [
    "#### Double Bursts "
   ]
  },
  {
   "cell_type": "code",
   "execution_count": null,
   "metadata": {
    "colab": {},
    "colab_type": "code",
    "id": "LiwmPjBZvvUc",
    "outputId": "278d1c8d-507d-4ad1-9648-0624dbba8317"
   },
   "outputs": [
    {
     "data": {
      "text/plain": [
       "Word\n",
       "Human Robot Interaction    2\n",
       "Machine Learning           2\n",
       "Neural Networks            2\n",
       "Prostate                   2\n",
       "Rehabilitation             2\n",
       "Sensor                     2\n",
       "Stroke                     2\n",
       "Name: cat, dtype: int64"
      ]
     },
     "execution_count": 4,
     "metadata": {
      "tags": []
     },
     "output_type": "execute_result"
    }
   ],
   "source": [
    "# WOS Double Burst\n",
    "# Select all duplicate terms based on Word column\n",
    "dub = WOSkw[WOSkw.duplicated(['Word'], keep=False)].sort_values('Word',ascending=False)\n",
    "dub.groupby('Word')['cat'].count()"
   ]
  },
  {
   "cell_type": "code",
   "execution_count": null,
   "metadata": {
    "colab": {},
    "colab_type": "code",
    "id": "GDNPqhUhvvUe",
    "outputId": "67564e4b-eec8-4232-b805-b13b5b81f9ae"
   },
   "outputs": [
    {
     "name": "stdout",
     "output_type": "stream",
     "text": [
      "30\n"
     ]
    },
    {
     "data": {
      "text/plain": [
       "Word\n",
       "Actuator                      2\n",
       "Adapt                         2\n",
       "Alliance                      2\n",
       "Analysis                      2\n",
       "Assistance                    2\n",
       "Closed Loop                   2\n",
       "Computer Science              2\n",
       "Computer Vision               2\n",
       "Cps                           3\n",
       "Criteria                      2\n",
       "Cyber Physical Systems        2\n",
       "Errors                        2\n",
       "Health                        2\n",
       "Human Computer Interaction    2\n",
       "Impacts                       3\n",
       "Instruction                   2\n",
       "Integrated                    2\n",
       "Mathematics                   2\n",
       "Measurement                   2\n",
       "Online                        2\n",
       "Participation                 2\n",
       "Prosthetic                    2\n",
       "Robotics Curriculum           2\n",
       "Robotics Research             2\n",
       "Robotics Technology           2\n",
       "Search                        2\n",
       "Stroke                        2\n",
       "Theory                        2\n",
       "Tool                          2\n",
       "Virtual                       2\n",
       "Name: cat, dtype: int64"
      ]
     },
     "execution_count": 6,
     "metadata": {
      "tags": []
     },
     "output_type": "execute_result"
    }
   ],
   "source": [
    "#NSF Double Burst\n",
    "dub = NSFkw[NSFkw.duplicated(['Word'], keep=False)].sort_values('Word',ascending=False)\n",
    "dub.groupby('Word')['cat'].count()\n",
    "print(len(dub.groupby('Word')['cat'].count()))\n",
    "dub.groupby('Word')['cat'].count()"
   ]
  },
  {
   "cell_type": "code",
   "execution_count": null,
   "metadata": {
    "colab": {},
    "colab_type": "code",
    "id": "UD_lXI_svvUg",
    "outputId": "53b08117-04f4-4e3d-bbc3-1bda841cfa96"
   },
   "outputs": [
    {
     "name": "stdout",
     "output_type": "stream",
     "text": [
      "Overlapped keywords between NSF/WOS -  47\n"
     ]
    }
   ],
   "source": [
    "# Select all duplicate terms based on Word column\n",
    "set1 = set(NSFkw.Word)\n",
    "set2 =  set(WOSkw.Word)\n",
    "print('Overlapped keywords between NSF/WOS - ',len(set1.intersection(set2)))"
   ]
  },
  {
   "cell_type": "markdown",
   "metadata": {
    "colab_type": "text",
    "id": "ru45c_BfvvUi"
   },
   "source": [
    "#### Top 10 "
   ]
  },
  {
   "cell_type": "code",
   "execution_count": null,
   "metadata": {
    "colab": {},
    "colab_type": "code",
    "id": "zhPO6rURvvUj"
   },
   "outputs": [],
   "source": [
    "wos_top={}\n",
    "\n",
    "# sum weight and pick top15\n",
    "for i in WOSkw.index:\n",
    "    word=WOSkw['Word'][i].lower()\n",
    "    weight=WOSkw['Weight'][i]\n",
    "    start=WOSkw['Start'][i]\n",
    "    end=WOSkw['End'][i]\n",
    "    if word in wos_top:\n",
    "        wos_top[word][0]+=weight\n",
    "        if start<wos_top[word][1]:\n",
    "            wos_top[word][1]=start\n",
    "            wos_top[word][2]=end \n",
    "    else:\n",
    "        wos_top[word]=[weight,start,end]\n",
    "\n",
    "wos_df=pd.DataFrame.from_dict(wos_top,\n",
    "                       orient='index', columns=['sum_weight', 'first_start','end'])\n",
    "\n",
    "wos_topdf=wos_df.sort_values(ascending=[False],by=['sum_weight'])[0:8]  \n",
    "\n",
    "for i in WOSkw.index:\n",
    "    if WOSkw['Word'][i].lower() not in wos_topdf.index:\n",
    "        WOSkw=WOSkw.drop([i])\n",
    "WOSkw=WOSkw.reset_index(drop=True)        \n",
    "WOSkw['Word']=[i.lower() for i in list(WOSkw['Word'])]"
   ]
  },
  {
   "cell_type": "code",
   "execution_count": null,
   "metadata": {
    "colab": {},
    "colab_type": "code",
    "id": "sfq68r-evvUl"
   },
   "outputs": [],
   "source": [
    "nsf_top={}\n",
    "\n",
    "# sum weight and pick top15\n",
    "for i in NSFkw.index:\n",
    "    word=NSFkw['Word'][i].lower()\n",
    "    weight=NSFkw['Weight'][i]\n",
    "    start=NSFkw['Start'][i]\n",
    "    end=NSFkw['End'][i]\n",
    "    if word in nsf_top:\n",
    "        nsf_top[word][0]+=weight\n",
    "        if start<nsf_top[word][1]:\n",
    "            nsf_top[word][1]=start\n",
    "            nsf_top[word][2]=end        \n",
    "    else:\n",
    "        nsf_top[word]=[weight,start,end]\n",
    "\n",
    "nsf_df=pd.DataFrame.from_dict(nsf_top,\n",
    "                       orient='index', columns=['sum_weight', 'first_start','end'])\n",
    "\n",
    "nsf_topdf=nsf_df.sort_values(ascending=[False],by=['sum_weight'])[0:7]  \n",
    "\n",
    "for i in NSFkw.index:\n",
    "    if NSFkw['Word'][i].lower() not in nsf_topdf.index:\n",
    "        NSFkw=NSFkw.drop([i])\n",
    "NSFkw=NSFkw.reset_index(drop=True)     \n",
    "NSFkw['Word']=[i.lower() for i in list(NSFkw['Word'])]"
   ]
  },
  {
   "cell_type": "code",
   "execution_count": null,
   "metadata": {
    "colab": {},
    "colab_type": "code",
    "id": "iR04a1QNvvUn"
   },
   "outputs": [],
   "source": [
    "allkw_list=pd.concat([nsf_topdf,wos_topdf])\n",
    "allkw_list=allkw_list.sort_values(ascending=[True,True,False],by=['first_start','end','sum_weight'])\n",
    "allkw_list=allkw_list.reset_index()"
   ]
  },
  {
   "cell_type": "markdown",
   "metadata": {
    "colab_type": "text",
    "id": "DTDskaVAvvUp"
   },
   "source": [
    "##### Overlap between NSf and WOS"
   ]
  },
  {
   "cell_type": "code",
   "execution_count": null,
   "metadata": {
    "colab": {},
    "colab_type": "code",
    "id": "njeMqwYdvvUp"
   },
   "outputs": [],
   "source": [
    "overlap=allkw_list[list(allkw_list['index'].duplicated()==True)]\n",
    "allkw_list=allkw_list[list(allkw_list['index'].duplicated()!=True)] #remove duplicated\n",
    "allkw_list=allkw_list.reset_index()"
   ]
  },
  {
   "cell_type": "code",
   "execution_count": null,
   "metadata": {
    "colab": {},
    "colab_type": "code",
    "id": "3PtmCHvVvvUr"
   },
   "outputs": [],
   "source": [
    "overlap_list=pd.DataFrame(columns=['Word','Length','Weight','Start','End'])\n",
    "for i in range(len(overlap)):\n",
    "    print(overlap['index'].values[i]+'-NSF: ')\n",
    "    print(len(NSFkw.loc[NSFkw.Word==overlap['index'].values[i],]))\n",
    "    print(overlap['index'].values[i]+'-WOS: ')\n",
    "    print(len(WOSkw.loc[WOSkw.Word==overlap['index'].values[i],]))\n",
    "    nsf_ol=NSFkw.loc[NSFkw.Word==overlap['index'].values[i],]\n",
    "    wos_ol=WOSkw.loc[WOSkw.Word==overlap['index'].values[i],]\n",
    "    nsf_ol=nsf_ol.reset_index()\n",
    "    wos_ol=wos_ol.reset_index()\n",
    "    for k in range(len(nsf_ol)):\n",
    "        for j in range(len(wos_ol)):\n",
    "            Word=nsf_ol.loc[k,'Word']\n",
    "            Level=1\n",
    "            Weight=max(nsf_ol.loc[k,'Weight'],wos_ol.loc[j,'Weight'])\n",
    "            max_Start=max(nsf_ol.loc[k,'Start'],wos_ol.loc[j,'Start'])\n",
    "            min_End=min(nsf_ol.loc[k,'End'],wos_ol.loc[j,'End'])\n",
    "            if max_Start<=min_End: ##has overlapped year \n",
    "                overlap_list.loc[len(overlap_list),['Word','Weight','Start','End']]=[Word,Weight,max_Start,min_End]\n",
    "                overlap_list.loc[len(overlap_list)-1,['Length']]=[min_End-max_Start+1]\n",
    "        \n"
   ]
  },
  {
   "cell_type": "code",
   "execution_count": null,
   "metadata": {
    "colab": {},
    "colab_type": "code",
    "id": "6ql0XRcAvvUt",
    "outputId": "b36a49c7-fa83-4eed-a320-fee4f76c6c3f"
   },
   "outputs": [
    {
     "data": {
      "text/html": [
       "<div>\n",
       "<style scoped>\n",
       "    .dataframe tbody tr th:only-of-type {\n",
       "        vertical-align: middle;\n",
       "    }\n",
       "\n",
       "    .dataframe tbody tr th {\n",
       "        vertical-align: top;\n",
       "    }\n",
       "\n",
       "    .dataframe thead th {\n",
       "        text-align: right;\n",
       "    }\n",
       "</style>\n",
       "<table border=\"1\" class=\"dataframe\">\n",
       "  <thead>\n",
       "    <tr style=\"text-align: right;\">\n",
       "      <th></th>\n",
       "      <th>Word</th>\n",
       "      <th>Length</th>\n",
       "      <th>Weight</th>\n",
       "      <th>Start</th>\n",
       "      <th>End</th>\n",
       "    </tr>\n",
       "  </thead>\n",
       "  <tbody>\n",
       "  </tbody>\n",
       "</table>\n",
       "</div>"
      ],
      "text/plain": [
       "Empty DataFrame\n",
       "Columns: [Word, Length, Weight, Start, End]\n",
       "Index: []"
      ]
     },
     "execution_count": 73,
     "metadata": {
      "tags": []
     },
     "output_type": "execute_result"
    }
   ],
   "source": [
    "overlap_list"
   ]
  },
  {
   "cell_type": "code",
   "execution_count": null,
   "metadata": {
    "colab": {},
    "colab_type": "code",
    "id": "3WBlM4twvvUv"
   },
   "outputs": [],
   "source": [
    "WOSkw['Word'] = WOSkw['Word'].str.title() \n",
    "NSFkw['Word'] = NSFkw['Word'].str.title() \n",
    "overlap_list['Word'] = overlap_list['Word'].str.title()\n",
    "allkw_list['index'] = allkw_list['index'].str.title()"
   ]
  },
  {
   "cell_type": "code",
   "execution_count": null,
   "metadata": {
    "colab": {},
    "colab_type": "code",
    "id": "Yubeh5bJvvU2"
   },
   "outputs": [],
   "source": [
    "allkw_list.to_csv(\"top-15-rob.csv\", index=False)"
   ]
  },
  {
   "cell_type": "markdown",
   "metadata": {
    "colab_type": "text",
    "id": "xOEUD0MzvvU9"
   },
   "source": [
    "#### 2) Graph\n",
    "Plotting and formatting the data from given sources"
   ]
  },
  {
   "cell_type": "code",
   "execution_count": null,
   "metadata": {
    "colab": {},
    "colab_type": "code",
    "id": "c9JP0ktovvU9"
   },
   "outputs": [],
   "source": [
    "wos = pd.read_csv('data/wos-three-domains-total-1998-2017.csv', encoding='latin1', sep=\",\")\n",
    "nsf = pd.read_csv('data/nsf-three-domains-total-1998-2017.csv', encoding='latin1', sep=\",\")"
   ]
  },
  {
   "cell_type": "markdown",
   "metadata": {
    "colab_type": "text",
    "id": "z7KVrzYtvvU_"
   },
   "source": [
    "### Final Figure"
   ]
  },
  {
   "cell_type": "code",
   "execution_count": null,
   "metadata": {
    "colab": {},
    "colab_type": "code",
    "id": "XOcQIvV0vvU_",
    "outputId": "95366730-f431-4a8a-957c-571535c23545"
   },
   "outputs": [
    {
     "data": {
      "text/plain": [
       "<Figure size 288x465.984 with 0 Axes>"
      ]
     },
     "metadata": {
      "tags": []
     },
     "output_type": "display_data"
    }
   ],
   "source": [
    "w, h = plt.figaspect(1.618)\n",
    "fig = plt.figure(figsize=(w, h),facecolor='white')"
   ]
  },
  {
   "cell_type": "code",
   "execution_count": null,
   "metadata": {
    "colab": {},
    "colab_type": "code",
    "id": "g54JMurMvvVB",
    "outputId": "9e081928-e393-4d95-bf6f-7393d8bb8404"
   },
   "outputs": [
    {
     "data": {
      "text/plain": [
       "{'divide': 'warn', 'over': 'warn', 'under': 'ignore', 'invalid': 'warn'}"
      ]
     },
     "execution_count": 13,
     "metadata": {
      "tags": []
     },
     "output_type": "execute_result"
    }
   ],
   "source": [
    "plt.rcParams['axes.xmargin'] = 0 # remove whote margins\n",
    "plt.rcParams['svg.fonttype'] = 'none' # for svg formatting\n",
    "plt.rc('xtick', labelsize=13) \n",
    "plt.rc('ytick', labelsize=13) \n",
    "plt.rcParams['font.sans-serif'] = \"Arial\"\n",
    "\n",
    "plt.rcParams['font.family'] = \"sans-serif\"\n",
    "\n",
    "np.seterr(divide='ignore', invalid='ignore') # to remove warning messages"
   ]
  },
  {
   "cell_type": "code",
   "execution_count": null,
   "metadata": {
    "colab": {},
    "colab_type": "code",
    "id": "cZ0epfOvvvVD",
    "outputId": "acfbb6af-600d-437c-b41e-7a8e99f6afc6"
   },
   "outputs": [
    {
     "data": {
      "image/png": "[encoded data removed]",
      "text/plain": [
       "<Figure size 465.984x288 with 2 Axes>"
      ]
     },
     "metadata": {
      "tags": []
     },
     "output_type": "display_data"
    }
   ],
   "source": [
    "plt.rcParams['svg.fonttype'] = 'none' # for svg formatting\n",
    "np.seterr(divide='ignore', invalid='ignore') # to remove warning messages\n",
    "plt.rc('xtick', labelsize=15) # change size of labels\n",
    "plt.rc('ytick', labelsize=15) # change size of labels\n",
    "plt.rcParams['font.sans-serif'] = \"Arial\"\n",
    "plt.rcParams['font.family'] = \"sans-serif\"\n",
    "w, h = plt.figaspect(1.618)\n",
    "fig = plt.figure(figsize=(h, w),facecolor='white')\n",
    "ax1 = fig.add_subplot(111)\n",
    "\n",
    "x = [1998, 1999, 2000,2001,2002,2003, 2004,2005, 2006, 2007, 2008, 2009,2010, 2011, 2012, 2013, 2014, 2015, 2016, 2017,2018]\n",
    "\n",
    "\n",
    "ax1.set_ylim(0, max(max(wos.Rob.values),max(nsf.Rob.values))) # adjust ylim\n",
    "ax1.set_xlim((1998, 2018))\n",
    "\n",
    "ax1.xaxis.set_major_locator(MaxNLocator(integer=True))\n",
    "ax1.axes.set_xticklabels(x) \n",
    "ax1.set_xticklabels(x, rotation=45)\n",
    "\n",
    "\n",
    "max_weight = 62.16\n",
    "\n",
    "ax1.plot(wos.year.values,wos.Rob.values, linewidth = 2, color=\"#EF6C00\")  # orange wos\n",
    "ax1.plot(wos.year.values,nsf.Rob.values,linewidth = 2,color = \"#0D47A1\")  # blue nsf\n",
    "\n",
    "plt.axvline(x=2000, color='#9e9e9e',linewidth = 0.5)\n",
    "plt.axvline(x=2002, color='#9e9e9e',linewidth = 0.5)\n",
    "plt.axvline(x=2004, color='#9e9e9e',linewidth = 0.5)\n",
    "plt.axvline(x=2006, color='#9e9e9e',linewidth = 0.5)\n",
    "plt.axvline(x=2008, color='#9e9e9e',linewidth = 0.5)\n",
    "plt.axvline(x=2010, color='#9e9e9e',linewidth = 0.5)\n",
    "plt.axvline(x=2012, color='#9e9e9e',linewidth = 0.5)\n",
    "plt.axvline(x=2014, color='#9e9e9e',linewidth = 0.5)\n",
    "plt.axvline(x=2016, color='#9e9e9e',linewidth = 0.5)\n",
    "my_yticks=allkw_list['index']  \n",
    "\n",
    "ax2 = ax1.twinx()  # set up the 2nd axis\n",
    "\n",
    "for x in range(0,len(WOSkw)):\n",
    "    color=\"#EF6C00\" #orange -- wos\n",
    "    i=allkw_list.index[allkw_list['index']==WOSkw['Word'][x]].values[0]\n",
    "\n",
    "    ax2.barh([i], left=WOSkw.iloc[x].Start, width=WOSkw.iloc[x].Length+1, color=color,height=WOSkw.iloc[x].Weight/max_weight*0.8+0.03,alpha=1)\n",
    " \n",
    "\n",
    "for x in range(0,len(NSFkw)):\n",
    "    color=\"#0D47A1\" #blue -- nsf\n",
    "    i=allkw_list.index[allkw_list['index']==NSFkw['Word'][x]].values[0]\n",
    "    \n",
    "    ax2.barh([i], left=NSFkw.iloc[x].Start, width=NSFkw.iloc[x].Length,  color=color,height=NSFkw[x:(x+1)].Weight/max_weight*0.8+0.03,alpha=1)\n",
    "\n",
    "    \n",
    "for x in range(0,len(overlap_list)):\n",
    "    color=\"#bdbdbd\" #grey -- nsf  grey\n",
    "    i=allkw_list.index[allkw_list['index']==overlap_list['Word'][x]].values[0]\n",
    "    \n",
    "    ax2.barh([i], width=overlap_list[x:(x+1)].Length+1, left=overlap_list[x:(x+1)].Start, color=color,height=overlap_list[x:(x+1)].Weight/max_weight*0.8+0.03,alpha=1)\n",
    "\n",
    "\n",
    "for x in range(3,15):\n",
    "    if len(allkw_list['index'][x]) < 10: \n",
    "        ax2.text(float(allkw_list[x:(x+1)].first_start-3.1), float(x-0.1) , allkw_list['index'][x], fontname='Arial',size=13)# addd values to bars\n",
    "\n",
    "    if len(allkw_list['index'][x]) >= 10 and len(allkw_list['index'][x]) < 18 :\n",
    "        ax2.text(float(allkw_list[x:(x+1)].first_start-5.0), float(x-0.1) , allkw_list['index'][x], fontname='Arial',size=13)#\n",
    "    if len(allkw_list['index'][x]) >= 18:\n",
    "        ax2.text(float(allkw_list[x:(x+1)].first_start-7.0), float(x-0.1) , allkw_list['index'][x], fontname='Arial',size=13)#\n",
    "    \n",
    "#for x in range(0,3):\n",
    "ax2.text(float(2009+0.2), float(0-0.2) , allkw_list['index'][0], fontname='Arial',size=13)\n",
    "ax2.text(float(2005+0.5), float(1-0.2) , allkw_list['index'][1], fontname='Arial',size=13)\n",
    "ax2.text(float(2008+0.2), float(2-0.2) , allkw_list['index'][2], fontname='Arial',size=13)\n",
    "\n",
    "ax2 = plt.gca()  \n",
    "\n",
    "ax2.xaxis.set_major_locator(MaxNLocator(integer=True))\n",
    "ax1.xaxis.set_major_locator(MaxNLocator(integer=True))\n",
    "ax1.set_xticks([1998, 1999, 2000,2001,2002,2003, 2004,2005, 2006, 2007, 2008, 2009,2010, 2011, 2012, 2013, 2014, 2015, 2016, 2017,2018])\n",
    "\n",
    "ax2.tick_params(axis=u'both', which=u'both',length=0)\n",
    "ax2.set_yticklabels([])\n",
    "\n",
    "plt.xticks(rotation=45)\n",
    "ax1.tick_params(axis=u'x', which=u'x',length=4)\n",
    "plt.setp(ax1.get_xticklabels()[1::2], visible=False)\n",
    "\n",
    "fig.tight_layout()\n",
    "\n",
    "plt.savefig('Fig-burst-rob.svg')\n",
    "plt.savefig('Fig-burst-rob.png')\n",
    "plt.show()"
   ]
  }
 ],
 "metadata": {
  "colab": {
   "collapsed_sections": [
    "DTDskaVAvvUp"
   ],
   "name": "Burst_Analysis_Workflow-Robotics-overlay.ipynb",
   "provenance": []
  },
  "kernelspec": {
   "display_name": "Python 3",
   "language": "python",
   "name": "python3"
  },
  "language_info": {
   "codemirror_mode": {
    "name": "ipython",
    "version": 3
   },
   "file_extension": ".py",
   "mimetype": "text/x-python",
   "name": "python",
   "nbconvert_exporter": "python",
   "pygments_lexer": "ipython3",
   "version": "3.7.1"
  }
 },
 "nbformat": 4,
 "nbformat_minor": 4
}
