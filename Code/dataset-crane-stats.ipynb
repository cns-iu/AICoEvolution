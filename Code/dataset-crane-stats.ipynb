{
 "cells": [
  {
   "cell_type": "markdown",
   "metadata": {},
   "source": [
    "# Dataset Statistics - CRANE"
   ]
  },
  {
   "cell_type": "markdown",
   "metadata": {},
   "source": [
    "Provide stats for WOS publications, WOS keywords, NSF awards, NSF keywords\n",
    "\n",
    "- keywords are normalized via OpenRefine\n",
    "    - Key Collision Fingerprint and ngram methods \n",
    "    - Following clusters identified and merged:\n",
    "        - 1,739 clusters for AI\n",
    "        - 2,333 clusters for IoT\n",
    "        - 3,201 clusters for robotics\n",
    "- NSF keywords are excluded for < 1998 (325 records excluded)\n",
    "- Some Active 1998-2017 NSF awards started < 1998\n",
    "  - These awards are counted for annual totals and awards totals\n",
    "  - These awards are excluded for counting keywords and authors\n",
    "    - AI: 96 records (<1998)\n",
    "    - Robotics: 229 records (<1998)\n",
    "    - IoT: No records (<1998)\n",
    "- IoT data is filtered manually to iliminate false positives\n",
    "  - IoT has 503 records that required manual revision.\n",
    "  - Out of 503 we have 371 unique keywords\n",
    "  - 64 keywords were removed (e.g. antibiotic) as irrelevant to IoT\n",
    "- NSF Fundings\n",
    "    - AI Funding Amount:  494,310,951.0\n",
    "    - Robotics Funding Amount:  1,375,299,908.0\n",
    "    - IoT Funding Amount:  149,498,845.0"
   ]
  },
  {
   "cell_type": "code",
   "execution_count": 2,
   "metadata": {},
   "outputs": [],
   "source": [
    "import pandas as pd\n",
    "import numpy as np\n",
    "import matplotlib.pyplot as plt\n",
    "from matplotlib.ticker import MaxNLocator\n",
    "from matplotlib_venn import venn3, venn3_circles, venn2, venn2_circles"
   ]
  },
  {
   "cell_type": "markdown",
   "metadata": {},
   "source": [
    "### WOS Publications"
   ]
  },
  {
   "cell_type": "code",
   "execution_count": 32,
   "metadata": {},
   "outputs": [],
   "source": [
    "# using txt to avoid excel errors with counting unique long digit ids - it skips some zeros\n",
    "iot = pd.read_csv('0212wos_clarivate_iot.txt', encoding='latin1', sep=\",\")\n",
    "rob = pd.read_csv('0212wos_clarivate_robotics.txt', encoding='latin1', sep=\",\")\n",
    "ai = pd.read_csv('0212wos_clarivate_ai.txt', encoding='latin1', sep=\",\")\n",
    "allpubs = pd.read_csv('0212wos_clarivate_all.txt', encoding='latin1', sep=\",\")"
   ]
  },
  {
   "cell_type": "markdown",
   "metadata": {},
   "source": [
    "#### Total Publications 1998-2017"
   ]
  },
  {
   "cell_type": "code",
   "execution_count": 50,
   "metadata": {},
   "outputs": [
    {
     "name": "stdout",
     "output_type": "stream",
     "text": [
      "AI unique publications: 7414\n",
      "Robotics unique publications: 13931\n",
      "IoT unique publications: 11371\n",
      "Total unique publications for all three terms 32425\n",
      "Total Non-Unique Publications for all three terms: 32716\n"
     ]
    }
   ],
   "source": [
    "print(\"AI unique publications:\", ai['ISI_LOC'].nunique())\n",
    "print(\"Robotics unique publications:\",rob['ISI_LOC'].nunique())\n",
    "print(\"IoT unique publications:\", iot['ISI_LOC'].nunique())\n",
    "print(\"Total unique publications for all three terms\", allpubs['ISI_LOC'].nunique())\n",
    "print(\"Total Non-Unique Publications for all three terms:\", ai['ISI_LOC'].count() + \n",
    "      rob['ISI_LOC'].count()+ \n",
    "      iot['ISI_LOC'].count())"
   ]
  },
  {
   "cell_type": "markdown",
   "metadata": {},
   "source": [
    "#### Overlapping Publications 1998-2017"
   ]
  },
  {
   "cell_type": "code",
   "execution_count": 4,
   "metadata": {},
   "outputs": [],
   "source": [
    "ai['ISI_LOC'] = ai['ISI_LOC'].astype(str)\n",
    "rob['ISI_LOC'] = rob['ISI_LOC'].astype(str)\n",
    "iot['ISI_LOC'] = iot['ISI_LOC'].astype(str)"
   ]
  },
  {
   "cell_type": "code",
   "execution_count": 7,
   "metadata": {},
   "outputs": [
    {
     "data": {
      "image/png": "[encoded data removed]",
      "text/plain": [
       "<Figure size 432x288 with 1 Axes>"
      ]
     },
     "metadata": {},
     "output_type": "display_data"
    }
   ],
   "source": [
    "set1 = set(ai.ISI_LOC)\n",
    "set2 = set(rob.ISI_LOC)\n",
    "set3 = set(iot.ISI_LOC)\n",
    "s = (set1,set2,set3)\n",
    "v = venn3(subsets=s, set_labels = ('AI WOS Pubs', 'Robotics WOS Pubs', 'IoT WOS Pubs'))\n",
    "#plt.savefig('Venn-Clarivate-1998-2017.png')\n",
    "#plt.savefig('Venn-Clarivate-1998-2017.svg')\n",
    "plt.show()"
   ]
  },
  {
   "cell_type": "code",
   "execution_count": 8,
   "metadata": {},
   "outputs": [
    {
     "name": "stdout",
     "output_type": "stream",
     "text": [
      "Summary for WOS Publications\n",
      "Intersect between AI and Robotics: 209\n",
      "Intersect between Robotics and IoT: 38\n",
      "Intersect between AI and IoT: 46\n",
      "Intesect between all three: 2\n"
     ]
    }
   ],
   "source": [
    "print(\"Summary for WOS Publications\")\n",
    "print(\"Intersect between AI and Robotics:\", len(set1.intersection(set2))) # AI + ROB\n",
    "print(\"Intersect between Robotics and IoT:\", len(set2.intersection(set3))) # ROB + IOT\n",
    "print(\"Intersect between AI and IoT:\",len(set1.intersection(set3))) # AI + IOT)\n",
    "print(\"Intersect between all three:\",len(set1.intersection(set3,set2))) # all three"
   ]
  },
  {
   "cell_type": "markdown",
   "metadata": {},
   "source": [
    "### WOS Keywords"
   ]
  },
  {
   "cell_type": "code",
   "execution_count": 11,
   "metadata": {},
   "outputs": [],
   "source": [
    "iotwos = pd.read_csv('iot_wos_keywords_normalized.csv', encoding='latin1', sep=\",\")\n",
    "robwos = pd.read_csv('robotics_wos_keywords_normalized.csv', encoding='latin1', sep=\",\")\n",
    "aiwos = pd.read_csv('ai_wos_keywords_normalized.csv', encoding='latin1', sep=\",\")"
   ]
  },
  {
   "cell_type": "code",
   "execution_count": 12,
   "metadata": {},
   "outputs": [
    {
     "data": {
      "text/plain": [
       "(7414, 13931, 11371)"
      ]
     },
     "execution_count": 12,
     "metadata": {},
     "output_type": "execute_result"
    }
   ],
   "source": [
    "len(aiwos), len(robwos), len(iotwos) # double-checking the count of records"
   ]
  },
  {
   "cell_type": "code",
   "execution_count": 13,
   "metadata": {},
   "outputs": [],
   "source": [
    "aikeyswos = aiwos['Keywords'].values\n",
    "robkeyswos = robwos['KEYWORDS'].values\n",
    "iotkeyswos = iotwos['KEYWORDS'].values"
   ]
  },
  {
   "cell_type": "code",
   "execution_count": 52,
   "metadata": {},
   "outputs": [],
   "source": [
    "# Creating sets of unique keywords\n",
    "aisetwos = set()\n",
    "for i in range(len(aikeyswos)):\n",
    "    line = aikeyswos[i]\n",
    "    split = line.split(\";\")\n",
    "    for x in range(len(split)):\n",
    "        a = split[x]\n",
    "        aisetwos.add(a.lower())\n",
    "robsetwos = set()\n",
    "for i in range(len(robkeyswos)):\n",
    "    line = robkeyswos[i]\n",
    "    split = line.split(\";\")\n",
    "    for x in range(len(split)):\n",
    "        a = split[x]\n",
    "        robsetwos.add(a.lower())\n",
    "iotsetwos = set()\n",
    "for i in range(len(iotkeyswos)):\n",
    "    line = iotkeyswos[i]\n",
    "    split = line.split(\";\")\n",
    "    for x in range(len(split)):\n",
    "        a = split[x]\n",
    "        iotsetwos.add(a.lower())"
   ]
  },
  {
   "cell_type": "code",
   "execution_count": 123,
   "metadata": {},
   "outputs": [],
   "source": [
    "allkeyswos = set(list(aisetwos) + list(robsetwos) + list(iotsetwos))"
   ]
  },
  {
   "cell_type": "markdown",
   "metadata": {},
   "source": [
    "#### Total WOS Keywords 1998-2017"
   ]
  },
  {
   "cell_type": "code",
   "execution_count": 124,
   "metadata": {},
   "outputs": [
    {
     "name": "stdout",
     "output_type": "stream",
     "text": [
      "AI unique keywords: 17534\n",
      "Robotics unique keywords: 23561\n",
      "IoT unique keywords: 21204\n",
      "Total unique keywords: 55946\n"
     ]
    }
   ],
   "source": [
    "print(\"AI unique keywords:\", len(aisetwos))\n",
    "print(\"Robotics unique keywords:\", len(robsetwos))\n",
    "print(\"IoT unique keywords:\", len(iotsetwos))\n",
    "print(\"Total unique keywords:\", len(allkeyswos))"
   ]
  },
  {
   "cell_type": "markdown",
   "metadata": {},
   "source": [
    "#### Overlapping WOS Keywords 1998-2017"
   ]
  },
  {
   "cell_type": "code",
   "execution_count": 23,
   "metadata": {},
   "outputs": [
    {
     "data": {
      "image/png": "[encoded data removed]",
      "text/plain": [
       "<Figure size 432x288 with 1 Axes>"
      ]
     },
     "metadata": {},
     "output_type": "display_data"
    }
   ],
   "source": [
    "set1 = set(aisetwos)\n",
    "set2 = set(robsetwos)\n",
    "set3 = set(iotsetwos)\n",
    "s = (set1,set2,set3)\n",
    "v = venn3(subsets=s, set_labels = ('AI WOS keywords', 'WOS Robotics keywords', 'WOS IoT keywords'))\n",
    "plt.savefig('Venn-wos-keywords-1998-2017.png')\n",
    "#plt.savefig('Venn-wos-1998-2017.svg')\n",
    "plt.show()"
   ]
  },
  {
   "cell_type": "code",
   "execution_count": 24,
   "metadata": {},
   "outputs": [
    {
     "name": "stdout",
     "output_type": "stream",
     "text": [
      "Summary for WOS Keywords\n",
      "Intersect between AI and Robotics: 2935\n",
      "Intersect between Robotics and IoT: 2331\n",
      "Intersect between AI and IoT: 2204\n",
      "Intesect between all three: 1117\n"
     ]
    }
   ],
   "source": [
    "print(\"Summary for WOS Keywords\")\n",
    "print(\"Intersect between AI and Robotics:\", len(set1.intersection(set2))) # AI + ROB\n",
    "print(\"Intersect between Robotics and IoT:\", len(set2.intersection(set3))) # ROB + IOT\n",
    "print(\"Intersect between AI and IoT:\",len(set1.intersection(set3))) # AI + IOT)\n",
    "print(\"Intesect between all three:\",len(set1.intersection(set3,set2))) # all three"
   ]
  },
  {
   "cell_type": "markdown",
   "metadata": {},
   "source": [
    "### NSF Awards"
   ]
  },
  {
   "cell_type": "code",
   "execution_count": 42,
   "metadata": {},
   "outputs": [],
   "source": [
    "ainsf = pd.read_csv('Records/nsf-1990-2017-awards-artificial-intelligence.csv')\n",
    "robnsf = pd.read_csv('Records/nsf-1991-2017-awards-robotics.csv')\n",
    "iotnsf = pd.read_csv('Records/nsf-1998-2017-awards-internet-of-things.csv')\n",
    "frames = [ainsf,robnsf,iotnsf]\n",
    "allnsf = pd.concat(frames, sort=False) # all awards"
   ]
  },
  {
   "cell_type": "markdown",
   "metadata": {},
   "source": [
    "#### NSF Total Awards < 1998"
   ]
  },
  {
   "cell_type": "code",
   "execution_count": 62,
   "metadata": {},
   "outputs": [
    {
     "name": "stdout",
     "output_type": "stream",
     "text": [
      "AI unique publications: 1075\n",
      "Robotics unique publications: 3074\n",
      "IoT unique publications: 348\n",
      "Total unique awards for all three terms 4332\n",
      "Total non-unique awards for all three terms 4497\n"
     ]
    }
   ],
   "source": [
    "print(\"AI unique publications:\", ainsf['AwardNumber'].nunique())\n",
    "print(\"Robotics unique publications:\",robnsf['AwardNumber'].nunique())\n",
    "print(\"IoT unique publications:\", iotnsf['AwardNumber'].nunique())\n",
    "print(\"Total unique awards for all three terms\", allnsf['AwardNumber'].nunique())\n",
    "print(\"Total non-unique awards for all three terms\", allnsf['AwardNumber'].count())"
   ]
  },
  {
   "cell_type": "markdown",
   "metadata": {},
   "source": [
    "#### Overlapping Awards < 1998"
   ]
  },
  {
   "cell_type": "code",
   "execution_count": 65,
   "metadata": {},
   "outputs": [],
   "source": [
    "ainsf['AwardNumber'] = ainsf['AwardNumber'].astype(str)\n",
    "robnsf['AwardNumber'] = robnsf['AwardNumber'].astype(str)\n",
    "iotnsf['AwardNumber'] = iotnsf['AwardNumber'].astype(str)"
   ]
  },
  {
   "cell_type": "code",
   "execution_count": 67,
   "metadata": {},
   "outputs": [
    {
     "data": {
      "image/png": "[encoded data removed]",
      "text/plain": [
       "<Figure size 432x288 with 1 Axes>"
      ]
     },
     "metadata": {},
     "output_type": "display_data"
    }
   ],
   "source": [
    "set1 = set(ainsf.AwardNumber)\n",
    "set2 = set(robnsf.AwardNumber)\n",
    "set3 = set(iotnsf.AwardNumber)\n",
    "s = (set1,set2,set3)\n",
    "v = venn3(subsets=s, set_labels = ('AI NSF Funding', 'Robotics NSF Funding', 'IoT NSF Funding'))\n",
    "#plt.savefig('Venn-NSF-Funding-1998-2017.png')\n",
    "#plt.savefig('Venn-Clarivate-1998-2017.svg')\n",
    "plt.show()"
   ]
  },
  {
   "cell_type": "code",
   "execution_count": 68,
   "metadata": {},
   "outputs": [
    {
     "name": "stdout",
     "output_type": "stream",
     "text": [
      "Summary for NSF Awards\n",
      "Intersect between AI and Robotics: 146\n",
      "Intersect between Robotics and IoT: 17\n",
      "Intersect between AI and IoT: 2\n",
      "Intesect between all three: 0\n"
     ]
    }
   ],
   "source": [
    "print(\"Summary for NSF Awards\")\n",
    "print(\"Intersect between AI and Robotics:\", len(set1.intersection(set2))) # AI + ROB\n",
    "print(\"Intersect between Robotics and IoT:\", len(set2.intersection(set3))) # ROB + IOT\n",
    "print(\"Intersect between AI and IoT:\",len(set1.intersection(set3))) # AI + IOT)\n",
    "print(\"Intesect between all three:\",len(set1.intersection(set3,set2))) # all three"
   ]
  },
  {
   "cell_type": "markdown",
   "metadata": {},
   "source": [
    "### NSF Keywords 1998-2017"
   ]
  },
  {
   "cell_type": "code",
   "execution_count": 69,
   "metadata": {},
   "outputs": [],
   "source": [
    "iotnsfkeys = pd.read_csv('iot_nsf_keywords_normalized.csv', encoding='latin1', sep=\",\")\n",
    "robnsfkeys = pd.read_csv('robotics_nsf_keywords_normalized.csv', encoding='latin1', sep=\",\")\n",
    "ainsfkeys = pd.read_csv('ai_nsf_keywords_normalized.csv', encoding='latin1', sep=\",\")"
   ]
  },
  {
   "cell_type": "code",
   "execution_count": 96,
   "metadata": {},
   "outputs": [],
   "source": [
    "aikeys = ainsfkeys['Keywords'].values\n",
    "robkeys = robnsfkeys['KEYWORDS'].values\n",
    "iotkeys = iotnsfkeys['KEYWORDS'].values"
   ]
  },
  {
   "cell_type": "code",
   "execution_count": 73,
   "metadata": {},
   "outputs": [],
   "source": [
    "aiset = set()\n",
    "for i in range(len(aikeys)):\n",
    "    line = aikeys[i]\n",
    "    split = line.split(\";\")\n",
    "    for x in range(len(split)):\n",
    "        a = split[x]\n",
    "        aiset.add(a.lower())\n",
    "robset = set()\n",
    "for i in range(len(robkeys)):\n",
    "    line = robkeys[i]\n",
    "    split = line.split(\";\")\n",
    "    for x in range(len(split)):\n",
    "        a = split[x]\n",
    "        robset.add(a.lower())  \n",
    "iotset = set()\n",
    "for i in range(len(iotkeys)):\n",
    "    line = iotkeys[i]\n",
    "    split = line.split(\";\")\n",
    "    for x in range(len(split)):\n",
    "        a = split[x]\n",
    "        iotset.add(a.lower())"
   ]
  },
  {
   "cell_type": "code",
   "execution_count": 121,
   "metadata": {},
   "outputs": [],
   "source": [
    "allkeysnsf = set(list(aiset) + list(robset) + list(iotset))"
   ]
  },
  {
   "cell_type": "markdown",
   "metadata": {},
   "source": [
    "#### Total NSF Keywords 1998-2017"
   ]
  },
  {
   "cell_type": "code",
   "execution_count": 122,
   "metadata": {},
   "outputs": [
    {
     "name": "stdout",
     "output_type": "stream",
     "text": [
      "AI unique keywords: 3081\n",
      "Robotics unique keywords: 6144\n",
      "IoT unique keywords: 2435\n",
      "Total Unique keywords: 9185\n"
     ]
    }
   ],
   "source": [
    "print(\"AI unique keywords:\", len(aiset))\n",
    "print(\"Robotics unique keywords:\", len(robset))\n",
    "print(\"IoT unique keywords:\", len(iotset))\n",
    "print(\"Total Unique keywords:\", len(allkeysnsf))"
   ]
  },
  {
   "cell_type": "markdown",
   "metadata": {},
   "source": [
    "#### Overlapping NSF Keywords 1998-2017"
   ]
  },
  {
   "cell_type": "code",
   "execution_count": 83,
   "metadata": {},
   "outputs": [
    {
     "data": {
      "image/png": "[encoded data removed]",
      "text/plain": [
       "<Figure size 432x288 with 1 Axes>"
      ]
     },
     "metadata": {},
     "output_type": "display_data"
    }
   ],
   "source": [
    "set1 = set(aiset)\n",
    "set2 = set(robset)\n",
    "set3 = set(iotset)\n",
    "s = (set1,set2,set3)\n",
    "v = venn3(subsets=s, set_labels = ('AI NSF keywords', 'Robotics NSF keywords', 'IoT NSF keywords'))\n",
    "plt.savefig('Venn-NSF-keywords-1998-2017.png')\n",
    "#plt.savefig('Venn-NSF-1998-2017.svg')\n",
    "plt.show()"
   ]
  },
  {
   "cell_type": "code",
   "execution_count": 84,
   "metadata": {},
   "outputs": [
    {
     "name": "stdout",
     "output_type": "stream",
     "text": [
      "Summary for NSF Keywords\n",
      "Intersect between AI and Robotics: 1376\n",
      "Intersect between Robotics and IoT: 914\n",
      "Intersect between AI and IoT: 717\n",
      "Intesect between all three: 532\n"
     ]
    }
   ],
   "source": [
    "print(\"Summary for NSF Keywords\")\n",
    "print(\"Intersect between AI and Robotics:\", len(set1.intersection(set2))) # AI + ROB\n",
    "print(\"Intersect between Robotics and IoT:\", len(set2.intersection(set3))) # ROB + IOT\n",
    "print(\"Intersect between AI and IoT:\",len(set1.intersection(set3))) # AI + IOT)\n",
    "print(\"Intesect between all three:\",len(set1.intersection(set3,set2))) # all three"
   ]
  },
  {
   "cell_type": "code",
   "execution_count": 40,
   "metadata": {},
   "outputs": [
    {
     "data": {
      "text/plain": [
       "0      312000.0\n",
       "1    15729208.0\n",
       "2      311171.0\n",
       "3      287335.0\n",
       "4      340550.0\n",
       "Name: AwardedAmountToDate, dtype: float64"
      ]
     },
     "execution_count": 40,
     "metadata": {},
     "output_type": "execute_result"
    }
   ],
   "source": [
    "robnsf.AwardedAmountToDate.head()"
   ]
  },
  {
   "cell_type": "markdown",
   "metadata": {},
   "source": [
    "## NSF Funding"
   ]
  },
  {
   "cell_type": "code",
   "execution_count": 43,
   "metadata": {},
   "outputs": [
    {
     "name": "stdout",
     "output_type": "stream",
     "text": [
      "AI Funding Amount:  494310951.0\n",
      "Robotics Funding Amount:  1375299908.0\n",
      "IoT Funding Amount:  149498845.0\n"
     ]
    }
   ],
   "source": [
    "fundsai = ainsf.groupby('AwardNumber'). agg(\n",
    "    {\n",
    "       'AwardedAmountToDate': 'sum'\n",
    "    }\n",
    ")\n",
    "fundsrob = robnsf.groupby('AwardNumber'). agg(\n",
    "    {\n",
    "       'AwardedAmountToDate': 'sum'\n",
    "    }\n",
    ")\n",
    "fundsiot = iotnsf.groupby('AwardNumber'). agg(\n",
    "    {\n",
    "       'AwardedAmountToDate': 'sum'\n",
    "    }\n",
    ")\n",
    "print('AI Funding Amount: ',fundsai.AwardedAmountToDate.sum())\n",
    "print('Robotics Funding Amount: ',fundsrob.AwardedAmountToDate.sum())\n",
    "print('IoT Funding Amount: ',fundsiot.AwardedAmountToDate.sum())\n",
    "#funds.AwardedAmountToDate.apply(lambda x: float(x.replace(',', ''))).sum()"
   ]
  },
  {
   "cell_type": "markdown",
   "metadata": {},
   "source": [
    "## Create Annual Counts"
   ]
  },
  {
   "cell_type": "markdown",
   "metadata": {},
   "source": [
    "Combine and export all wos data aggregated by year"
   ]
  },
  {
   "cell_type": "code",
   "execution_count": 98,
   "metadata": {},
   "outputs": [],
   "source": [
    "# Merge all\n",
    "df = pd.concat([ai,iot,rob], ignore_index=True, join=\"inner\")"
   ]
  },
  {
   "cell_type": "code",
   "execution_count": 100,
   "metadata": {},
   "outputs": [],
   "source": [
    "df = df.drop_duplicates(subset='ISI_LOC') # remove overallipng terms"
   ]
  },
  {
   "cell_type": "code",
   "execution_count": 102,
   "metadata": {},
   "outputs": [],
   "source": [
    "year = df.groupby(['YEAR']).size().reset_index(name='count')"
   ]
  },
  {
   "cell_type": "code",
   "execution_count": 103,
   "metadata": {},
   "outputs": [],
   "source": [
    "year.to_csv('wos-all-merged-year-counts.csv', sep = ',',index=False)"
   ]
  },
  {
   "cell_type": "markdown",
   "metadata": {},
   "source": [
    "Combine and export all nsf data aggregated by year"
   ]
  },
  {
   "cell_type": "code",
   "execution_count": 107,
   "metadata": {},
   "outputs": [],
   "source": [
    "ainsf['StartDate']= pd.to_datetime(ainsf.StartDate)\n",
    "robnsf['StartDate']= pd.to_datetime(robnsf.StartDate)\n",
    "iotnsf['StartDate']= pd.to_datetime(iotnsf.StartDate)\n",
    "ainsf['year'] = ainsf['StartDate'].dt.strftime('%Y')\n",
    "robnsf['year'] = robnsf['StartDate'].dt.strftime('%Y')\n",
    "iotnsf['year'] = iotnsf['StartDate'].dt.strftime('%Y')\n",
    "# Merge all\n",
    "df = pd.concat([ainsf,iotnsf,robnsf], ignore_index=True, join=\"inner\")\n",
    "df = df.drop_duplicates(subset='AwardNumber')\n",
    "allnsf = pd.Series(df.groupby('year')['AwardNumber'].nunique())"
   ]
  },
  {
   "cell_type": "code",
   "execution_count": 118,
   "metadata": {},
   "outputs": [],
   "source": [
    "allnsf.to_csv('nsf-all-merged-year-counts.csv', sep = ',',index=True)"
   ]
  },
  {
   "cell_type": "markdown",
   "metadata": {},
   "source": [
    "Combine and export all wos keywords data aggregated by year\n",
    "\n",
    "Use files from Openrefine pre-processing steps (see documentation on how the sum of keywords was calculated per each record)"
   ]
  },
  {
   "cell_type": "markdown",
   "metadata": {},
   "source": [
    "NSF"
   ]
  },
  {
   "cell_type": "code",
   "execution_count": 141,
   "metadata": {},
   "outputs": [],
   "source": [
    "ainsfk = pd.read_csv('keywords/ai_nsf_keywords_normalized_with_counts.csv', encoding='latin1', sep=\",\")\n",
    "robnsfk = pd.read_csv('keywords/robotics_nsf_keywords_normalized_with_counts.csv', encoding='latin1', sep=\",\")\n",
    "iotnsfk = pd.read_csv('keywords/iot_nsf_keywords_normalized_with_counts.csv', encoding='latin1', sep=\",\")\n",
    "allkeys = pd.concat([ainsfk,iotnsfk,robnsfk], ignore_index=True, join=\"inner\")"
   ]
  },
  {
   "cell_type": "code",
   "execution_count": 143,
   "metadata": {},
   "outputs": [],
   "source": [
    "alldatansf = pd.Series(allkeys.groupby('Year')['Counts'].sum())\n",
    "ai_yeark = pd.Series(ainsfk.groupby('Year')['Counts'].sum())\n",
    "rob_yeark = pd.Series(robnsfk.groupby('Year')['Counts'].sum())\n",
    "iot_yeark = pd.Series(iotnsfk.groupby('Year')['Counts'].sum())"
   ]
  },
  {
   "cell_type": "code",
   "execution_count": 146,
   "metadata": {},
   "outputs": [],
   "source": [
    "ai_yeark.to_csv('nsf-ai-year-keywords-counts.csv', sep = ',',index=True)\n",
    "rob_yeark.to_csv('nsf-rob-year-keywords-counts.csv', sep = ',',index=True)\n",
    "iot_yeark.to_csv('nsf-iot-year-keywords-counts.csv', sep = ',',index=True)\n",
    "alldatansf.to_csv('nsf-all-year-keywords-counts.csv', sep = ',',index=True)"
   ]
  },
  {
   "cell_type": "markdown",
   "metadata": {},
   "source": [
    "WOS"
   ]
  },
  {
   "cell_type": "code",
   "execution_count": 150,
   "metadata": {},
   "outputs": [],
   "source": [
    "aiwosk = pd.read_csv('keywords/ai_wos_keywords_normalized_with_counts.csv', encoding='latin1', sep=\",\")\n",
    "robwosk = pd.read_csv('keywords/robotics_wos_keywords_normalized_with_counts.csv', encoding='latin1', sep=\",\")\n",
    "iotwosk = pd.read_csv('keywords/iot_wos_keywords_normalized_with_counts.csv', encoding='latin1', sep=\",\")\n",
    "allkeyswos = pd.concat([aiwosk,iotwosk,robwosk], ignore_index=True, join=\"inner\")"
   ]
  },
  {
   "cell_type": "code",
   "execution_count": 151,
   "metadata": {},
   "outputs": [],
   "source": [
    "alldatawos = pd.Series(allkeyswos.groupby('Year')['Counts'].sum())\n",
    "ai_yearw = pd.Series(aiwosk.groupby('Year')['Counts'].sum())\n",
    "rob_yearw = pd.Series(robwosk.groupby('Year')['Counts'].sum())\n",
    "iot_yearw = pd.Series(iotwosk.groupby('Year')['Counts'].sum())"
   ]
  },
  {
   "cell_type": "code",
   "execution_count": 152,
   "metadata": {},
   "outputs": [],
   "source": [
    "ai_yearw.to_csv('wos-ai-year-keywords-counts.csv', sep = ',',index=True)\n",
    "rob_yearw.to_csv('wos-rob-year-keywords-counts.csv', sep = ',',index=True)\n",
    "iot_yearw.to_csv('wos-iot-year-keywords-counts.csv', sep = ',',index=True)\n",
    "alldatawos.to_csv('wos-all-year-keywords-counts.csv', sep = ',',index=True)"
   ]
  },
  {
   "cell_type": "code",
   "execution_count": 105,
   "metadata": {},
   "outputs": [],
   "source": [
    "alldata = pd.Series(df.groupby('YEAR')['ISI_LOC'].nunique())"
   ]
  },
  {
   "cell_type": "code",
   "execution_count": 135,
   "metadata": {},
   "outputs": [
    {
     "name": "stdout",
     "output_type": "stream",
     "text": [
      "t = 1496.2850351585107\n",
      "p = 2.9812510178305865e-92\n"
     ]
    }
   ],
   "source": [
    "from scipy import stats\n",
    "a = int(alldata.index.values)\n",
    "b = np.log(alldata.values)\n",
    "t2, p2 = stats.ttest_ind(a,b)\n",
    "print(\"t = \" + str(t2))\n",
    "print(\"p = \" + str(p2))"
   ]
  },
  {
   "cell_type": "code",
   "execution_count": 147,
   "metadata": {},
   "outputs": [
    {
     "name": "stdout",
     "output_type": "stream",
     "text": [
      "t = 1267.0371714471155\n",
      "p = 1.8086377274669222e-122\n"
     ]
    }
   ],
   "source": [
    "\n",
    "a = x\n",
    "b = np.log(allnsf.values)\n",
    "t2, p2 = stats.ttest_ind(a,b)\n",
    "print(\"t = \" + str(t2))\n",
    "print(\"p = \" + str(p2))"
   ]
  }
 ],
 "metadata": {
  "kernelspec": {
   "display_name": "Python 3",
   "language": "python",
   "name": "python3"
  },
  "language_info": {
   "codemirror_mode": {
    "name": "ipython",
    "version": 3
   },
   "file_extension": ".py",
   "mimetype": "text/x-python",
   "name": "python",
   "nbconvert_exporter": "python",
   "pygments_lexer": "ipython3",
   "version": "3.7.1"
  }
 },
 "nbformat": 4,
 "nbformat_minor": 4
}
