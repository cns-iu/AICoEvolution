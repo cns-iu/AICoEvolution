{
 "cells": [
  {
   "cell_type": "markdown",
   "metadata": {},
   "source": [
    "### Parse NSF Award Amount per Year"
   ]
  },
  {
   "cell_type": "markdown",
   "metadata": {},
   "source": [
    "Use StartDate and EndDate to calculate the duration of the grant and AwardedAmountToDate to calculate the award amount\n",
    " - create a dayly time series\n",
    " - distribute the total amount of award across business days\n",
    " - aggregate daily amounts by year\n",
    " \n",
    " Total: 1,853,721,544"
   ]
  },
  {
   "cell_type": "code",
   "execution_count": 3,
   "metadata": {},
   "outputs": [],
   "source": [
    "import numpy as np\n",
    "import pandas as pd\n",
    "import itertools"
   ]
  },
  {
   "cell_type": "code",
   "execution_count": 4,
   "metadata": {},
   "outputs": [],
   "source": [
    "data = pd.read_csv(\"Data/nsf-1998-2017-all.csv\", encoding = \"latin1\", sep=',')"
   ]
  },
  {
   "cell_type": "code",
   "execution_count": 5,
   "metadata": {},
   "outputs": [
    {
     "data": {
      "text/html": [
       "<div>\n",
       "<style scoped>\n",
       "    .dataframe tbody tr th:only-of-type {\n",
       "        vertical-align: middle;\n",
       "    }\n",
       "\n",
       "    .dataframe tbody tr th {\n",
       "        vertical-align: top;\n",
       "    }\n",
       "\n",
       "    .dataframe thead th {\n",
       "        text-align: right;\n",
       "    }\n",
       "</style>\n",
       "<table border=\"1\" class=\"dataframe\">\n",
       "  <thead>\n",
       "    <tr style=\"text-align: right;\">\n",
       "      <th></th>\n",
       "      <th>AwardNumber</th>\n",
       "      <th>Title</th>\n",
       "      <th>NSFOrganization</th>\n",
       "      <th>Program(s)</th>\n",
       "      <th>StartDate</th>\n",
       "      <th>LastAmendmentDate</th>\n",
       "      <th>PrincipalInvestigator</th>\n",
       "      <th>PI</th>\n",
       "      <th>AllPI</th>\n",
       "      <th>State</th>\n",
       "      <th>...</th>\n",
       "      <th>OrganizationStreet</th>\n",
       "      <th>OrganizationCity</th>\n",
       "      <th>OrganizationState</th>\n",
       "      <th>OrganizationZip</th>\n",
       "      <th>OrganizationPhone</th>\n",
       "      <th>NSFDirectorate</th>\n",
       "      <th>ProgramElementCode(s)</th>\n",
       "      <th>ProgramReferenceCode(s)</th>\n",
       "      <th>ARRAAmount</th>\n",
       "      <th>Abstract</th>\n",
       "    </tr>\n",
       "  </thead>\n",
       "  <tbody>\n",
       "    <tr>\n",
       "      <th>0</th>\n",
       "      <td>1652052</td>\n",
       "      <td>CAREER: Active and Action-Centric Visual Under...</td>\n",
       "      <td>IIS</td>\n",
       "      <td>ROBUST INTELLIGENCE</td>\n",
       "      <td>7/1/17</td>\n",
       "      <td>8/22/18</td>\n",
       "      <td>Ali Farhadi</td>\n",
       "      <td>Farhadi, A</td>\n",
       "      <td>Farhadi, A</td>\n",
       "      <td>WA</td>\n",
       "      <td>...</td>\n",
       "      <td>4333 Brooklyn Ave NE</td>\n",
       "      <td>Seattle</td>\n",
       "      <td>WA</td>\n",
       "      <td>981950001</td>\n",
       "      <td>2.065434e+09</td>\n",
       "      <td>CSE</td>\n",
       "      <td>7495</td>\n",
       "      <td>1045, 7495</td>\n",
       "      <td>$0.00</td>\n",
       "      <td>This project develops technologies for visual ...</td>\n",
       "    </tr>\n",
       "    <tr>\n",
       "      <th>1</th>\n",
       "      <td>1741960</td>\n",
       "      <td>Spokane Falls Community College Engineering Sc...</td>\n",
       "      <td>DUE</td>\n",
       "      <td>S-STEM:SCHLR SCI TECH ENG&amp;MATH</td>\n",
       "      <td>11/15/17</td>\n",
       "      <td>10/30/17</td>\n",
       "      <td>Mark Gorski</td>\n",
       "      <td>Gorski, M</td>\n",
       "      <td>Gorski, M|Cripe, G|Robinson, S</td>\n",
       "      <td>WA</td>\n",
       "      <td>...</td>\n",
       "      <td>501 N. Riverpoint Blvd., Suite 1</td>\n",
       "      <td>Spokane</td>\n",
       "      <td>WA</td>\n",
       "      <td>992176000</td>\n",
       "      <td>5.094345e+09</td>\n",
       "      <td>EHR</td>\n",
       "      <td>1536</td>\n",
       "      <td>9178, SMET</td>\n",
       "      <td>$0.00</td>\n",
       "      <td>Spokane Falls Community College (SFCC) will pu...</td>\n",
       "    </tr>\n",
       "    <tr>\n",
       "      <th>2</th>\n",
       "      <td>1743772</td>\n",
       "      <td>PIRE: Science of Design for Societal-Scale Cyb...</td>\n",
       "      <td>OISE</td>\n",
       "      <td>S&amp;CC: Smart &amp; Connected Commun, IIS SPECIAL PR...</td>\n",
       "      <td>10/1/17</td>\n",
       "      <td>8/30/17</td>\n",
       "      <td>Janos Sztipanovits</td>\n",
       "      <td>Sztipanovits, J</td>\n",
       "      <td>Sztipanovits, J|Sastry, SS|Tomlin, C|Hess, D|K...</td>\n",
       "      <td>TN</td>\n",
       "      <td>...</td>\n",
       "      <td>Sponsored Programs Administratio</td>\n",
       "      <td>Nashville</td>\n",
       "      <td>TN</td>\n",
       "      <td>372350002</td>\n",
       "      <td>6.153223e+09</td>\n",
       "      <td>O/D</td>\n",
       "      <td>033Y, 7484, 7742</td>\n",
       "      <td>042Z, 5936</td>\n",
       "      <td>$0.00</td>\n",
       "      <td>PI: Janos Sztipanovits, Vanderbilt University&lt;...</td>\n",
       "    </tr>\n",
       "    <tr>\n",
       "      <th>3</th>\n",
       "      <td>1652588</td>\n",
       "      <td>CAREER: Safe and Transformative Robotic Interv...</td>\n",
       "      <td>IIS</td>\n",
       "      <td>ROBUST INTELLIGENCE</td>\n",
       "      <td>9/1/17</td>\n",
       "      <td>6/19/18</td>\n",
       "      <td>Daniel Rucker</td>\n",
       "      <td>Rucker, D</td>\n",
       "      <td>Rucker, D</td>\n",
       "      <td>TN</td>\n",
       "      <td>...</td>\n",
       "      <td>1 CIRCLE PARK</td>\n",
       "      <td>KNOXVILLE</td>\n",
       "      <td>TN</td>\n",
       "      <td>379960003</td>\n",
       "      <td>8.659743e+09</td>\n",
       "      <td>CSE</td>\n",
       "      <td>7495</td>\n",
       "      <td>1045, 7495</td>\n",
       "      <td>$0.00</td>\n",
       "      <td>Robotic devices are currently being used in me...</td>\n",
       "    </tr>\n",
       "    <tr>\n",
       "      <th>4</th>\n",
       "      <td>1653322</td>\n",
       "      <td>SCH: CAREER:  Co-Robotic Ultrasound Sensing in...</td>\n",
       "      <td>IIS</td>\n",
       "      <td>National Robotics Initiative, Smart and Connec...</td>\n",
       "      <td>9/1/17</td>\n",
       "      <td>7/22/17</td>\n",
       "      <td>Emad Boctor Mikhail</td>\n",
       "      <td>Mikhail, EB</td>\n",
       "      <td>Mikhail, EB</td>\n",
       "      <td>MD</td>\n",
       "      <td>...</td>\n",
       "      <td>1101 E 33rd St</td>\n",
       "      <td>Baltimore</td>\n",
       "      <td>MD</td>\n",
       "      <td>212182686</td>\n",
       "      <td>4.439972e+09</td>\n",
       "      <td>CSE</td>\n",
       "      <td>8013, 8018</td>\n",
       "      <td>1045, 8018, 8086</td>\n",
       "      <td>$0.00</td>\n",
       "      <td>Ultrasound imaging, while frequently used in h...</td>\n",
       "    </tr>\n",
       "  </tbody>\n",
       "</table>\n",
       "<p>5 rows × 27 columns</p>\n",
       "</div>"
      ],
      "text/plain": [
       "   AwardNumber                                              Title  \\\n",
       "0      1652052  CAREER: Active and Action-Centric Visual Under...   \n",
       "1      1741960  Spokane Falls Community College Engineering Sc...   \n",
       "2      1743772  PIRE: Science of Design for Societal-Scale Cyb...   \n",
       "3      1652588  CAREER: Safe and Transformative Robotic Interv...   \n",
       "4      1653322  SCH: CAREER:  Co-Robotic Ultrasound Sensing in...   \n",
       "\n",
       "  NSFOrganization                                         Program(s)  \\\n",
       "0             IIS                                ROBUST INTELLIGENCE   \n",
       "1             DUE                     S-STEM:SCHLR SCI TECH ENG&MATH   \n",
       "2            OISE  S&CC: Smart & Connected Commun, IIS SPECIAL PR...   \n",
       "3             IIS                                ROBUST INTELLIGENCE   \n",
       "4             IIS  National Robotics Initiative, Smart and Connec...   \n",
       "\n",
       "  StartDate LastAmendmentDate PrincipalInvestigator               PI  \\\n",
       "0    7/1/17           8/22/18           Ali Farhadi       Farhadi, A   \n",
       "1  11/15/17          10/30/17           Mark Gorski        Gorski, M   \n",
       "2   10/1/17           8/30/17    Janos Sztipanovits  Sztipanovits, J   \n",
       "3    9/1/17           6/19/18         Daniel Rucker        Rucker, D   \n",
       "4    9/1/17           7/22/17   Emad Boctor Mikhail      Mikhail, EB   \n",
       "\n",
       "                                               AllPI State  ...  \\\n",
       "0                                         Farhadi, A    WA  ...   \n",
       "1                     Gorski, M|Cripe, G|Robinson, S    WA  ...   \n",
       "2  Sztipanovits, J|Sastry, SS|Tomlin, C|Hess, D|K...    TN  ...   \n",
       "3                                          Rucker, D    TN  ...   \n",
       "4                                        Mikhail, EB    MD  ...   \n",
       "\n",
       "                 OrganizationStreet OrganizationCity OrganizationState  \\\n",
       "0              4333 Brooklyn Ave NE          Seattle                WA   \n",
       "1  501 N. Riverpoint Blvd., Suite 1          Spokane                WA   \n",
       "2  Sponsored Programs Administratio        Nashville                TN   \n",
       "3                     1 CIRCLE PARK        KNOXVILLE                TN   \n",
       "4                    1101 E 33rd St        Baltimore                MD   \n",
       "\n",
       "  OrganizationZip OrganizationPhone NSFDirectorate ProgramElementCode(s)  \\\n",
       "0       981950001      2.065434e+09            CSE                  7495   \n",
       "1       992176000      5.094345e+09            EHR                  1536   \n",
       "2       372350002      6.153223e+09            O/D      033Y, 7484, 7742   \n",
       "3       379960003      8.659743e+09            CSE                  7495   \n",
       "4       212182686      4.439972e+09            CSE            8013, 8018   \n",
       "\n",
       "  ProgramReferenceCode(s) ARRAAmount  \\\n",
       "0              1045, 7495     $0.00    \n",
       "1              9178, SMET     $0.00    \n",
       "2              042Z, 5936     $0.00    \n",
       "3              1045, 7495     $0.00    \n",
       "4        1045, 8018, 8086     $0.00    \n",
       "\n",
       "                                            Abstract  \n",
       "0  This project develops technologies for visual ...  \n",
       "1  Spokane Falls Community College (SFCC) will pu...  \n",
       "2  PI: Janos Sztipanovits, Vanderbilt University<...  \n",
       "3  Robotic devices are currently being used in me...  \n",
       "4  Ultrasound imaging, while frequently used in h...  \n",
       "\n",
       "[5 rows x 27 columns]"
      ]
     },
     "execution_count": 5,
     "metadata": {},
     "output_type": "execute_result"
    }
   ],
   "source": [
    "data.head()"
   ]
  },
  {
   "cell_type": "code",
   "execution_count": 8,
   "metadata": {},
   "outputs": [],
   "source": [
    "#list(data.columns)"
   ]
  },
  {
   "cell_type": "markdown",
   "metadata": {},
   "source": [
    "### Daily Aggregation"
   ]
  },
  {
   "cell_type": "code",
   "execution_count": 70,
   "metadata": {},
   "outputs": [],
   "source": [
    "#year = np.empty()\n",
    "days = []\n",
    "money = []\n",
    "\n",
    "for index, row in data.iterrows():\n",
    "    amount = row['AwardedAmountToDate'].replace('$','').replace(\",\",'').rstrip() \n",
    "    #print(row['AwardedAmountToDate'])\n",
    "    start = pd.to_datetime(row['StartDate'])\n",
    "    end = pd.to_datetime(row['EndDate'])\n",
    "    \n",
    "    #print(start)\n",
    "    #print(end)\n",
    "   \n",
    "   # print(amount)\n",
    "    d_range = np.array(pd.date_range(start, end)) # for business days pd.bdate_range(start, end)\n",
    "   # print(len(d_range)) # days\n",
    "    #print(float(amount)/len(d_range))\n",
    "    row['days'] = int(float(amount)/len(d_range))\n",
    "   # amount_daily = np.repeat(int(float(amount)/len(d_range)), len(d_range))  # loosing 100 dollars on decimals\n",
    "    amount_daily = np.repeat(float(amount)/len(d_range), len(d_range))\n",
    "    #print(amount_daily)\n",
    "    #amount_monthly = np.repeat(int(float(amount)/len(d_range)), len(d_range))\n",
    "    days.append(d_range)\n",
    "    money.append(amount_daily)\n",
    "\n",
    "merged_days = list(itertools.chain.from_iterable(days))\n",
    "merged_money = list(itertools.chain.from_iterable(money))\n",
    "y = np.array(merged_days)\n",
    "m = np.array(merged_money)\n",
    "df = pd.DataFrame({'year': y, 'amount' : m})"
   ]
  },
  {
   "cell_type": "code",
   "execution_count": 47,
   "metadata": {},
   "outputs": [],
   "source": [
    "#df.to_csv('daily_nsf_amount.csv', index = False)"
   ]
  },
  {
   "cell_type": "code",
   "execution_count": 38,
   "metadata": {},
   "outputs": [
    {
     "data": {
      "text/plain": [
       "1853721544.0088081"
      ]
     },
     "execution_count": 38,
     "metadata": {},
     "output_type": "execute_result"
    }
   ],
   "source": [
    "sum(df.amount) # total  1853721543.994824"
   ]
  },
  {
   "cell_type": "code",
   "execution_count": 71,
   "metadata": {},
   "outputs": [],
   "source": [
    "aggregate = df.groupby('year',as_index=False).agg(\n",
    "    {\n",
    "           'amount': 'sum' # count\n",
    "\n",
    "                       }\n",
    ")"
   ]
  },
  {
   "cell_type": "code",
   "execution_count": 72,
   "metadata": {},
   "outputs": [],
   "source": [
    "aggregate['y'] = pd.DatetimeIndex(aggregate.iloc[:,0]).year"
   ]
  },
  {
   "cell_type": "code",
   "execution_count": 54,
   "metadata": {},
   "outputs": [],
   "source": [
    "#aggregate['m'] = pd.DatetimeIndex(aggregate.iloc[:,0]).month  for testing"
   ]
  },
  {
   "cell_type": "code",
   "execution_count": 73,
   "metadata": {},
   "outputs": [
    {
     "data": {
      "text/plain": [
       "1853721543.9999852"
      ]
     },
     "execution_count": 73,
     "metadata": {},
     "output_type": "execute_result"
    }
   ],
   "source": [
    "sum(aggregate.amount) #1853721544.000005"
   ]
  },
  {
   "cell_type": "code",
   "execution_count": 74,
   "metadata": {},
   "outputs": [],
   "source": [
    "pd.set_option('display.float_format', '{:.2f}'.format)"
   ]
  },
  {
   "cell_type": "code",
   "execution_count": 76,
   "metadata": {},
   "outputs": [],
   "source": [
    "aggregate_year = aggregate.groupby(['y'],as_index=False).agg({\n",
    "    'amount':'sum'\n",
    "})"
   ]
  },
  {
   "cell_type": "code",
   "execution_count": 79,
   "metadata": {},
   "outputs": [],
   "source": [
    "aggregate_year.to_csv('Data/amount-daily-parse.csv', index=False)"
   ]
  },
  {
   "cell_type": "code",
   "execution_count": 77,
   "metadata": {},
   "outputs": [
    {
     "data": {
      "text/plain": [
       "1853721544.000001"
      ]
     },
     "execution_count": 77,
     "metadata": {},
     "output_type": "execute_result"
    }
   ],
   "source": [
    "sum(aggregate_year.amount)"
   ]
  },
  {
   "cell_type": "code",
   "execution_count": 58,
   "metadata": {},
   "outputs": [],
   "source": [
    "#year = np.empty()\n",
    "year = []\n",
    "money = []\n",
    "\n",
    "for index, row in data.iterrows():\n",
    "    amount = row['AwardedAmountToDate'].replace('$','').replace(\",\",'').rstrip() \n",
    "\n",
    "    start = pd.to_datetime(row['StartDate'])\n",
    "    end = pd.to_datetime(row['EndDate'])\n",
    "    d_range = np.array(pd.date_range(start, end,freq='M'))\n",
    "    amount_monthly = np.repeat(int(float(amount)/len(d_range)), len(d_range))\n",
    "    year.append(d_range)\n",
    "    money.append(amount_monthly)\n",
    "\n",
    "merged_year = list(itertools.chain.from_iterable(year))\n",
    "merged_money = list(itertools.chain.from_iterable(money))\n",
    "y = np.array(merged_year)\n",
    "m = np.array(merged_money)\n",
    "df = pd.DataFrame({'year': y, 'amount' : m})\n"
   ]
  },
  {
   "cell_type": "code",
   "execution_count": 98,
   "metadata": {},
   "outputs": [],
   "source": [
    "aggregate = df.groupby('year',as_index=False).agg(\n",
    "    {\n",
    "           'amount': 'sum' # count\n",
    "\n",
    "                       }\n",
    ")"
   ]
  },
  {
   "cell_type": "code",
   "execution_count": 101,
   "metadata": {},
   "outputs": [],
   "source": [
    "#aggregate.iloc[:,0]"
   ]
  },
  {
   "cell_type": "code",
   "execution_count": 102,
   "metadata": {},
   "outputs": [],
   "source": [
    "aggregate['y'] = pd.DatetimeIndex(aggregate.iloc[:,0]).year"
   ]
  },
  {
   "cell_type": "code",
   "execution_count": 104,
   "metadata": {},
   "outputs": [],
   "source": [
    "aggregate_year = aggregate.groupby('y',as_index=False).agg({\n",
    "    'amount':'sum'\n",
    "})"
   ]
  },
  {
   "cell_type": "code",
   "execution_count": 68,
   "metadata": {},
   "outputs": [],
   "source": [
    "#aggregate_year"
   ]
  },
  {
   "cell_type": "code",
   "execution_count": 45,
   "metadata": {},
   "outputs": [],
   "source": [
    "aggregate_year.to_csv('Data/amount-daily-parse.csv', index=False)"
   ]
  },
  {
   "cell_type": "code",
   "execution_count": null,
   "metadata": {},
   "outputs": [],
   "source": []
  }
 ],
 "metadata": {
  "kernelspec": {
   "display_name": "Python 3",
   "language": "python",
   "name": "python3"
  },
  "language_info": {
   "codemirror_mode": {
    "name": "ipython",
    "version": 3
   },
   "file_extension": ".py",
   "mimetype": "text/x-python",
   "name": "python",
   "nbconvert_exporter": "python",
   "pygments_lexer": "ipython3",
   "version": "3.7.1"
  }
 },
 "nbformat": 4,
 "nbformat_minor": 2
}
