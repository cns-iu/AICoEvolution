{
 "cells": [
  {
   "cell_type": "markdown",
   "metadata": {},
   "source": [
    "# Burst Analysis Workflow - AI\n",
    "- Input:\n",
    "    * WoS_[area].csv Wos_id|Keywords|Year...\n",
    "    * NSF_[area].csv ID|Year|Abstracts|Title...\n",
    "- Tool: Sci2\n",
    "- Output:\n",
    "    * "
   ]
  },
  {
   "cell_type": "code",
   "execution_count": 1,
   "metadata": {},
   "outputs": [],
   "source": [
    "%matplotlib inline\n",
    "import sys\n",
    "from collections import defaultdict, Counter\n",
    "import numpy as np\n",
    "import pandas as pd\n",
    "import pylab as plt\n",
    "import math\n",
    "from os import listdir\n",
    "import random\n",
    "import time\n",
    "import matplotlib.cm as cm\n",
    "from numpy.random import choice\n",
    "import itertools\n",
    "import operator\n",
    "import itertools\n",
    "from datetime import datetime as dt\n",
    "import matplotlib.mlab as mlab\n",
    "import re\n",
    "from matplotlib_venn import venn3, venn3_circles, venn2, venn2_circles\n",
    "from matplotlib.ticker import MaxNLocator"
   ]
  },
  {
   "cell_type": "code",
   "execution_count": 3,
   "metadata": {},
   "outputs": [],
   "source": [
    "area='ai'"
   ]
  },
  {
   "cell_type": "markdown",
   "metadata": {},
   "source": [
    "## Step 1 Normalize keywords in OpenRefine (see documentation)\n",
    "## Step 2 Run Burst Analysis in Sci2\n",
    "- input: \n",
    "    * [area]\\_wos_keywords.csv\n",
    "    * [area]\\_nsf_keywords.csv\n",
    "- get output:\n",
    "    * [area]\\_wos_input.csv\n",
    "    * [area]\\_nsf_input.csv"
   ]
  },
  {
   "cell_type": "markdown",
   "metadata": {},
   "source": [
    "## Step 3 Get Burst Graph"
   ]
  },
  {
   "cell_type": "markdown",
   "metadata": {},
   "source": [
    "### 1) Load data generated from Sci2"
   ]
  },
  {
   "cell_type": "code",
   "execution_count": 2,
   "metadata": {},
   "outputs": [],
   "source": [
    "area='ai'"
   ]
  },
  {
   "cell_type": "code",
   "execution_count": 61,
   "metadata": {},
   "outputs": [],
   "source": [
    "wos_burst_path='sci2-ai-wos-output.csv'\n",
    "nsf_burst_path='sci2-ai-nsf-output.csv'\n",
    "WOSkw = pd.read_csv(wos_burst_path)\n",
    "NSFkw = pd.read_csv(nsf_burst_path)\n",
    "NSFkw['Word'] = NSFkw['Word'].str.replace('-',' ')  # remove underscores\n",
    "WOSkw['Word'] = WOSkw['Word'].str.replace('-',' ')  # remove underscores\n",
    "WOSkw['Word'] = WOSkw['Word'].str.lower() "
   ]
  },
  {
   "cell_type": "code",
   "execution_count": 87,
   "metadata": {},
   "outputs": [],
   "source": [
    "### Merge two sets\n",
    "WOSkw['Word'] = WOSkw['Word'].str.title() \n",
    "WOSkw['cat'] = 'wos'\n",
    "NSFkw['Word'] = NSFkw['Word'].str.title() \n",
    "NSFkw['cat'] = 'nsf'\n",
    "#nsfwosai15 = pd.concat([wosai15, nsfai15], ignore_index=True)\n",
    "nsfwosai = pd.concat([WOSkw, NSFkw], ignore_index=True)"
   ]
  },
  {
   "cell_type": "markdown",
   "metadata": {},
   "source": [
    "### Sort"
   ]
  },
  {
   "cell_type": "code",
   "execution_count": 88,
   "metadata": {},
   "outputs": [
    {
     "name": "stdout",
     "output_type": "stream",
     "text": [
      "nsf- 13.04195439 Machine Learning\n",
      "wos- 39.29231663 Learning (Artificial Intelligence)\n"
     ]
    }
   ],
   "source": [
    "#Top Bursts\n",
    "print('nsf-',max(NSFkw.Weight),NSFkw.loc[NSFkw.Weight==max(NSFkw.Weight),'Word'].values[0])\n",
    "print('wos-',max(WOSkw.Weight),WOSkw.loc[WOSkw.Weight==max(WOSkw.Weight),'Word'].values[0])"
   ]
  },
  {
   "cell_type": "markdown",
   "metadata": {},
   "source": [
    "### Double Bursts "
   ]
  },
  {
   "cell_type": "code",
   "execution_count": 89,
   "metadata": {},
   "outputs": [
    {
     "data": {
      "text/html": [
       "<div>\n",
       "<style scoped>\n",
       "    .dataframe tbody tr th:only-of-type {\n",
       "        vertical-align: middle;\n",
       "    }\n",
       "\n",
       "    .dataframe tbody tr th {\n",
       "        vertical-align: top;\n",
       "    }\n",
       "\n",
       "    .dataframe thead th {\n",
       "        text-align: right;\n",
       "    }\n",
       "</style>\n",
       "<table border=\"1\" class=\"dataframe\">\n",
       "  <thead>\n",
       "    <tr style=\"text-align: right;\">\n",
       "      <th></th>\n",
       "      <th>Word</th>\n",
       "      <th>Level</th>\n",
       "      <th>Weight</th>\n",
       "      <th>Length</th>\n",
       "      <th>Start</th>\n",
       "      <th>End</th>\n",
       "      <th>cat</th>\n",
       "    </tr>\n",
       "  </thead>\n",
       "  <tbody>\n",
       "  </tbody>\n",
       "</table>\n",
       "</div>"
      ],
      "text/plain": [
       "Empty DataFrame\n",
       "Columns: [Word, Level, Weight, Length, Start, End, cat]\n",
       "Index: []"
      ]
     },
     "execution_count": 89,
     "metadata": {},
     "output_type": "execute_result"
    }
   ],
   "source": [
    "# WOS Double Burst\n",
    "# Select all duplicate terms based on Word column\n",
    "WOSkw[WOSkw.duplicated(['Word'], keep=False)]"
   ]
  },
  {
   "cell_type": "code",
   "execution_count": 90,
   "metadata": {},
   "outputs": [
    {
     "data": {
      "text/html": [
       "<div>\n",
       "<style scoped>\n",
       "    .dataframe tbody tr th:only-of-type {\n",
       "        vertical-align: middle;\n",
       "    }\n",
       "\n",
       "    .dataframe tbody tr th {\n",
       "        vertical-align: top;\n",
       "    }\n",
       "\n",
       "    .dataframe thead th {\n",
       "        text-align: right;\n",
       "    }\n",
       "</style>\n",
       "<table border=\"1\" class=\"dataframe\">\n",
       "  <thead>\n",
       "    <tr style=\"text-align: right;\">\n",
       "      <th></th>\n",
       "      <th>Word</th>\n",
       "      <th>Level</th>\n",
       "      <th>Weight</th>\n",
       "      <th>Length</th>\n",
       "      <th>Start</th>\n",
       "      <th>End</th>\n",
       "      <th>cat</th>\n",
       "    </tr>\n",
       "  </thead>\n",
       "  <tbody>\n",
       "  </tbody>\n",
       "</table>\n",
       "</div>"
      ],
      "text/plain": [
       "Empty DataFrame\n",
       "Columns: [Word, Level, Weight, Length, Start, End, cat]\n",
       "Index: []"
      ]
     },
     "execution_count": 90,
     "metadata": {},
     "output_type": "execute_result"
    }
   ],
   "source": [
    "#NSF Double Burst\n",
    "NSFkw[NSFkw.duplicated(['Word'], keep=False)]"
   ]
  },
  {
   "cell_type": "code",
   "execution_count": 91,
   "metadata": {},
   "outputs": [
    {
     "data": {
      "text/html": [
       "<div>\n",
       "<style scoped>\n",
       "    .dataframe tbody tr th:only-of-type {\n",
       "        vertical-align: middle;\n",
       "    }\n",
       "\n",
       "    .dataframe tbody tr th {\n",
       "        vertical-align: top;\n",
       "    }\n",
       "\n",
       "    .dataframe thead th {\n",
       "        text-align: right;\n",
       "    }\n",
       "</style>\n",
       "<table border=\"1\" class=\"dataframe\">\n",
       "  <thead>\n",
       "    <tr style=\"text-align: right;\">\n",
       "      <th></th>\n",
       "      <th>Word</th>\n",
       "      <th>Level</th>\n",
       "      <th>Weight</th>\n",
       "      <th>Length</th>\n",
       "      <th>Start</th>\n",
       "      <th>End</th>\n",
       "      <th>cat</th>\n",
       "    </tr>\n",
       "  </thead>\n",
       "  <tbody>\n",
       "    <tr>\n",
       "      <th>0</th>\n",
       "      <td>Big Data</td>\n",
       "      <td>1</td>\n",
       "      <td>16.168361</td>\n",
       "      <td>3</td>\n",
       "      <td>2015</td>\n",
       "      <td>2017</td>\n",
       "      <td>wos</td>\n",
       "    </tr>\n",
       "    <tr>\n",
       "      <th>19</th>\n",
       "      <td>Big Data</td>\n",
       "      <td>1</td>\n",
       "      <td>8.972520</td>\n",
       "      <td>5</td>\n",
       "      <td>2013</td>\n",
       "      <td>2017</td>\n",
       "      <td>nsf</td>\n",
       "    </tr>\n",
       "    <tr>\n",
       "      <th>1</th>\n",
       "      <td>Deep Learning</td>\n",
       "      <td>1</td>\n",
       "      <td>18.487784</td>\n",
       "      <td>2</td>\n",
       "      <td>2016</td>\n",
       "      <td>2017</td>\n",
       "      <td>wos</td>\n",
       "    </tr>\n",
       "    <tr>\n",
       "      <th>17</th>\n",
       "      <td>Deep Learning</td>\n",
       "      <td>1</td>\n",
       "      <td>7.049418</td>\n",
       "      <td>4</td>\n",
       "      <td>2014</td>\n",
       "      <td>2017</td>\n",
       "      <td>nsf</td>\n",
       "    </tr>\n",
       "    <tr>\n",
       "      <th>8</th>\n",
       "      <td>Machine Learning</td>\n",
       "      <td>1</td>\n",
       "      <td>26.411891</td>\n",
       "      <td>1</td>\n",
       "      <td>2017</td>\n",
       "      <td>2017</td>\n",
       "      <td>wos</td>\n",
       "    </tr>\n",
       "    <tr>\n",
       "      <th>13</th>\n",
       "      <td>Machine Learning</td>\n",
       "      <td>1</td>\n",
       "      <td>13.041954</td>\n",
       "      <td>3</td>\n",
       "      <td>2015</td>\n",
       "      <td>2017</td>\n",
       "      <td>nsf</td>\n",
       "    </tr>\n",
       "  </tbody>\n",
       "</table>\n",
       "</div>"
      ],
      "text/plain": [
       "                Word  Level     Weight  Length  Start   End  cat\n",
       "0           Big Data      1  16.168361       3   2015  2017  wos\n",
       "19          Big Data      1   8.972520       5   2013  2017  nsf\n",
       "1      Deep Learning      1  18.487784       2   2016  2017  wos\n",
       "17     Deep Learning      1   7.049418       4   2014  2017  nsf\n",
       "8   Machine Learning      1  26.411891       1   2017  2017  wos\n",
       "13  Machine Learning      1  13.041954       3   2015  2017  nsf"
      ]
     },
     "execution_count": 91,
     "metadata": {},
     "output_type": "execute_result"
    }
   ],
   "source": [
    "# Select all duplicate terms based on Word column\n",
    "duplicates = nsfwosai[nsfwosai.duplicated(['Word'], keep=False)]\n",
    "duplicates.sort_values(['Word'])"
   ]
  },
  {
   "cell_type": "markdown",
   "metadata": {},
   "source": [
    "### Top 10"
   ]
  },
  {
   "cell_type": "code",
   "execution_count": 92,
   "metadata": {},
   "outputs": [],
   "source": [
    "wos_top={}\n",
    "\n",
    "# sum weight and pick top15\n",
    "for i in WOSkw.index:\n",
    "    word=WOSkw['Word'][i].lower()\n",
    "    weight=WOSkw['Weight'][i]\n",
    "    start=WOSkw['Start'][i]\n",
    "    end=WOSkw['End'][i]\n",
    "    if word in wos_top:\n",
    "        wos_top[word][0]+=weight\n",
    "        if start<wos_top[word][1]:\n",
    "            wos_top[word][1]=start\n",
    "            wos_top[word][2]=end \n",
    "    else:\n",
    "        wos_top[word]=[weight,start,end]\n",
    "\n",
    "wos_df=pd.DataFrame.from_dict(wos_top,\n",
    "                       orient='index', columns=['sum_weight', 'first_start','end'])\n",
    "\n",
    "wos_topdf=wos_df.sort_values(ascending=[False],by=['sum_weight'])[0:10]  \n",
    "\n",
    "for i in WOSkw.index:\n",
    "    if WOSkw['Word'][i].lower() not in wos_topdf.index:\n",
    "        WOSkw=WOSkw.drop([i])\n",
    "WOSkw=WOSkw.reset_index(drop=True)        \n",
    "WOSkw['Word']=[i.lower() for i in list(WOSkw['Word'])]"
   ]
  },
  {
   "cell_type": "code",
   "execution_count": 93,
   "metadata": {},
   "outputs": [],
   "source": [
    "nsf_top={}\n",
    "\n",
    "# sum weight and pick top15\n",
    "for i in NSFkw.index:\n",
    "    word=NSFkw['Word'][i].lower()\n",
    "    weight=NSFkw['Weight'][i]\n",
    "    start=NSFkw['Start'][i]\n",
    "    end=NSFkw['End'][i]\n",
    "    if word in nsf_top:\n",
    "        nsf_top[word][0]+=weight\n",
    "        if start<nsf_top[word][1]:\n",
    "            nsf_top[word][1]=start\n",
    "            nsf_top[word][2]=end        \n",
    "    else:\n",
    "        nsf_top[word]=[weight,start,end]\n",
    "\n",
    "nsf_df=pd.DataFrame.from_dict(nsf_top,\n",
    "                       orient='index', columns=['sum_weight', 'first_start','end'])\n",
    "\n",
    "nsf_topdf=nsf_df.sort_values(ascending=[False],by=['sum_weight'])[0:10]  \n",
    "\n",
    "#nsf_topdf=nsf_topdf.sort_values(ascending=[True,False],by=['first_start','sum_weight']) \n",
    "\n",
    "#NSFkw.loc[]\n",
    "\n",
    "for i in NSFkw.index:\n",
    "    if NSFkw['Word'][i].lower() not in nsf_topdf.index:\n",
    "        NSFkw=NSFkw.drop([i])\n",
    "NSFkw=NSFkw.reset_index(drop=True)     \n",
    "NSFkw['Word']=[i.lower() for i in list(NSFkw['Word'])]"
   ]
  },
  {
   "cell_type": "code",
   "execution_count": 94,
   "metadata": {},
   "outputs": [],
   "source": [
    "allkw_list=pd.concat([nsf_topdf,wos_topdf])\n",
    "allkw_list=allkw_list.sort_values(ascending=[True,True,False],by=['first_start','end','sum_weight'])\n",
    "allkw_list=allkw_list.reset_index()"
   ]
  },
  {
   "cell_type": "markdown",
   "metadata": {},
   "source": [
    "#### Overlap"
   ]
  },
  {
   "cell_type": "code",
   "execution_count": 95,
   "metadata": {},
   "outputs": [],
   "source": [
    "overlap=allkw_list[list(allkw_list['index'].duplicated()==True)]\n",
    "allkw_list=allkw_list[list(allkw_list['index'].duplicated()!=True)] #remove duplicated\n",
    "allkw_list=allkw_list.reset_index()"
   ]
  },
  {
   "cell_type": "code",
   "execution_count": 96,
   "metadata": {},
   "outputs": [
    {
     "name": "stdout",
     "output_type": "stream",
     "text": [
      "big data-NSF: \n",
      "1\n",
      "big data-WOS: \n",
      "1\n",
      "deep learning-NSF: \n",
      "1\n",
      "deep learning-WOS: \n",
      "1\n",
      "machine learning-NSF: \n",
      "1\n",
      "machine learning-WOS: \n",
      "1\n"
     ]
    }
   ],
   "source": [
    "overlap_list=pd.DataFrame(columns=['Word','Length','Weight','Start','End'])\n",
    "for i in range(len(overlap)):\n",
    "    print(overlap['index'].values[i]+'-NSF: ')\n",
    "    print(len(NSFkw.loc[NSFkw.Word==overlap['index'].values[i],]))\n",
    "    print(overlap['index'].values[i]+'-WOS: ')\n",
    "    print(len(WOSkw.loc[WOSkw.Word==overlap['index'].values[i],]))\n",
    "    nsf_ol=NSFkw.loc[NSFkw.Word==overlap['index'].values[i],]\n",
    "    wos_ol=WOSkw.loc[WOSkw.Word==overlap['index'].values[i],]\n",
    "    nsf_ol=nsf_ol.reset_index()\n",
    "    wos_ol=wos_ol.reset_index()\n",
    "    for k in range(len(nsf_ol)):\n",
    "        for j in range(len(wos_ol)):\n",
    "            Word=nsf_ol.loc[k,'Word']\n",
    "            Level=1\n",
    "            Weight=max(nsf_ol.loc[k,'Weight'],wos_ol.loc[j,'Weight'])\n",
    "            max_Start=max(nsf_ol.loc[k,'Start'],wos_ol.loc[j,'Start'])\n",
    "            min_End=min(nsf_ol.loc[k,'End'],wos_ol.loc[j,'End'])\n",
    "            if max_Start<=min_End: ##has overlapped year \n",
    "                overlap_list.loc[len(overlap_list),['Word','Weight','Start','End']]=[Word,Weight,max_Start,min_End]\n",
    "                overlap_list.loc[len(overlap_list)-1,['Length']]=[min_End-max_Start+1]\n",
    "        \n"
   ]
  },
  {
   "cell_type": "code",
   "execution_count": 97,
   "metadata": {},
   "outputs": [
    {
     "data": {
      "text/html": [
       "<div>\n",
       "<style scoped>\n",
       "    .dataframe tbody tr th:only-of-type {\n",
       "        vertical-align: middle;\n",
       "    }\n",
       "\n",
       "    .dataframe tbody tr th {\n",
       "        vertical-align: top;\n",
       "    }\n",
       "\n",
       "    .dataframe thead th {\n",
       "        text-align: right;\n",
       "    }\n",
       "</style>\n",
       "<table border=\"1\" class=\"dataframe\">\n",
       "  <thead>\n",
       "    <tr style=\"text-align: right;\">\n",
       "      <th></th>\n",
       "      <th>Word</th>\n",
       "      <th>Length</th>\n",
       "      <th>Weight</th>\n",
       "      <th>Start</th>\n",
       "      <th>End</th>\n",
       "    </tr>\n",
       "  </thead>\n",
       "  <tbody>\n",
       "    <tr>\n",
       "      <th>0</th>\n",
       "      <td>big data</td>\n",
       "      <td>3</td>\n",
       "      <td>16.1684</td>\n",
       "      <td>2015</td>\n",
       "      <td>2017</td>\n",
       "    </tr>\n",
       "    <tr>\n",
       "      <th>1</th>\n",
       "      <td>deep learning</td>\n",
       "      <td>2</td>\n",
       "      <td>18.4878</td>\n",
       "      <td>2016</td>\n",
       "      <td>2017</td>\n",
       "    </tr>\n",
       "    <tr>\n",
       "      <th>2</th>\n",
       "      <td>machine learning</td>\n",
       "      <td>1</td>\n",
       "      <td>26.4119</td>\n",
       "      <td>2017</td>\n",
       "      <td>2017</td>\n",
       "    </tr>\n",
       "  </tbody>\n",
       "</table>\n",
       "</div>"
      ],
      "text/plain": [
       "               Word Length   Weight Start   End\n",
       "0          big data      3  16.1684  2015  2017\n",
       "1     deep learning      2  18.4878  2016  2017\n",
       "2  machine learning      1  26.4119  2017  2017"
      ]
     },
     "execution_count": 97,
     "metadata": {},
     "output_type": "execute_result"
    }
   ],
   "source": [
    "overlap_list"
   ]
  },
  {
   "cell_type": "code",
   "execution_count": 98,
   "metadata": {},
   "outputs": [],
   "source": [
    "WOSkw['Word'] = WOSkw['Word'].str.title() \n",
    "NSFkw['Word'] = NSFkw['Word'].str.title() \n",
    "overlap_list['Word'] = overlap_list['Word'].str.title()\n",
    "allkw_list['index'] = allkw_list['index'].str.title()"
   ]
  },
  {
   "cell_type": "markdown",
   "metadata": {},
   "source": [
    "### 2) Graph"
   ]
  },
  {
   "cell_type": "code",
   "execution_count": 99,
   "metadata": {},
   "outputs": [
    {
     "data": {
      "image/png": "[encoded data removed]",
      "text/plain": [
       "<Figure size 792x468 with 1 Axes>"
      ]
     },
     "metadata": {},
     "output_type": "display_data"
    }
   ],
   "source": [
    "plt.rcParams['svg.fonttype'] = 'none'\n",
    "fig = plt.figure(figsize=(11, 6.5),facecolor='white')\n",
    "#end = np.array(df[['stop']])\n",
    "ax1 = fig.add_subplot(111)\n",
    "ax1.set_xlim((1997, 2017))\n",
    "\n",
    "my_yticks=allkw_list['index']\n",
    "y = list(range(0, len(allkw_list)))\n",
    "plt.yticks(y, my_yticks)\n",
    "ax1.yaxis.set_ticks_position('none')   \n",
    "\n",
    "for x in range(0,len(WOSkw)):\n",
    "    color=\"#0d47a1\" #blue -- wos\n",
    "    i=allkw_list.index[allkw_list['index']==WOSkw['Word'][x]].values[0]\n",
    "    \n",
    "    ax1.barh([i], width=WOSkw[x:(x+1)].Length, left=WOSkw[x:(x+1)].Start-1, color=color,height=WOSkw[x:(x+1)].Weight/max(max(WOSkw.Weight),max(NSFkw.Weight))*0.8+0.03,alpha=1)\n",
    "#     ax1.barh([8], width=9, left=1997, color=color,height=0.05+0.03,alpha=1)\n",
    "#     ax1.barh([8], width=9, left=1997, color=color,height=0.05+0.03,alpha=1)\n",
    "  \n",
    "for x in range(0,len(NSFkw)):\n",
    "    color=\"#ef6c00\" #orange -- nsf\n",
    "    i=allkw_list.index[allkw_list['index']==NSFkw['Word'][x]].values[0]\n",
    "    \n",
    "    ax1.barh([i], width=NSFkw[x:(x+1)].Length, left=NSFkw[x:(x+1)].Start-1, color=color,height=NSFkw[x:(x+1)].Weight/max(max(WOSkw.Weight),max(NSFkw.Weight))*0.8+0.03,alpha=1)\n",
    "\n",
    "    \n",
    "for x in range(0,len(overlap_list)):\n",
    "    color=\"grey\" #grey -- nsf\n",
    "    i=allkw_list.index[allkw_list['index']==overlap_list['Word'][x]].values[0]\n",
    "    \n",
    "    ax1.barh([i], width=overlap_list[x:(x+1)].Length, left=overlap_list[x:(x+1)].Start-1, color=color,height=overlap_list[x:(x+1)].Weight/max(max(WOSkw.Weight),max(NSFkw.Weight))*0.8+0.03,alpha=1)\n",
    "\n",
    "\n",
    "    \n",
    "ax1 = plt.gca()\n",
    "ax1.xaxis.set_major_locator(MaxNLocator(integer=True))\n",
    "plt.savefig(area+'-burst.svg')\n",
    "plt.savefig(area+'-burst.png')"
   ]
  },
  {
   "cell_type": "code",
   "execution_count": null,
   "metadata": {},
   "outputs": [],
   "source": []
  }
 ],
 "metadata": {
  "kernelspec": {
   "display_name": "Python 3",
   "language": "python",
   "name": "python3"
  },
  "language_info": {
   "codemirror_mode": {
    "name": "ipython",
    "version": 3
   },
   "file_extension": ".py",
   "mimetype": "text/x-python",
   "name": "python",
   "nbconvert_exporter": "python",
   "pygments_lexer": "ipython3",
   "version": "3.7.1"
  }
 },
 "nbformat": 4,
 "nbformat_minor": 2
}
